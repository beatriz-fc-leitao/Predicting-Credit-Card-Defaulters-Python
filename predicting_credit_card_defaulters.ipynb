{
 "cells": [
  {
   "cell_type": "markdown",
   "id": "bb978fd0-7944-4aee-a654-513a468c5a30",
   "metadata": {
    "tags": []
   },
   "source": [
    "# Predicting Default Credit Cards Clients"
   ]
  },
  {
   "cell_type": "markdown",
   "id": "6c69f0e3-e89e-4e1b-ae19-98b58bbdd494",
   "metadata": {},
   "source": [
    "A bank in you region want to build a model to predict credit card defaulters more accurately in order minimize money loss. For this task we have a set of data on default payments and demographic data to help us do our task. Data is comprised in the following CSV files:"
   ]
  },
  {
   "cell_type": "markdown",
   "id": "1956996c-b1c6-4eae-a697-5471a0133a17",
   "metadata": {},
   "source": [
    "\n",
    "**TRAINING**\n",
    "\n",
    "**`train_customers.csv`**\n",
    " - `ID`: ID of each client\n",
    " - `LIMIT_BAL`: Amount of given credit in NT dollars (includes individual and family/supplementary credit\n",
    " - `SEX`: Gender (1=male, 2=female)\n",
    " - `EDUCATION`: (1=graduate school, 2=university, 3=high school, 4=others, 5=unknown, 6=unknown)\n",
    " - `MARRIAGE`: Marital status (1=married, 2=single, 3=others)\n",
    " - `AGE`: Age in years\n",
    " \n",
    "**`train_series.csv`**\n",
    " - `ID`: ID of each client\n",
    " - `MONTH`: The month to wich data is refering\n",
    " - `PAY`: Repayment status in the corresponding month (-1=pay duly, 1=payment delay for one month, 2=payment delay for two months, … 8=payment delay for eight months, 9=payment delay for nine months and above)\n",
    " - `BILL_AMT`: Amount of bill statement in the corresponding month (NT dollar)\n",
    " - `PAY_AMT`: Amount of previous payment in the corresponding month (NT dollar)\n",
    " \n",
    "**`train_target.csv`**\n",
    " - `DEFAULT_JULY`: Default payment in July (1=yes, 0=no)\n",
    " \n",
    " \n",
    "**TEST** \n",
    " - **`test_data.csv`**\n",
    " \n",
    "**SUBMISSION** \n",
    " - **`submission_features.csv`**"
   ]
  },
  {
   "cell_type": "markdown",
   "id": "2dc347e2-ced1-45ce-ac1a-3666af363e26",
   "metadata": {},
   "source": [
    "# Table of Contents\n",
    "- [A. Data Engineering](#1) \n",
    "    - [Question 1](#1.1) \n",
    "    - [Question 2](#1.2) \n",
    "    - [Question 3](#1.3) \n",
    "- [B. Exploratory Data Analysis](#2) \n",
    "    - [Question 1](#2.1) \n",
    "    - [Question 2](#2.2) \n",
    "    - [Question 3](#2.3)\n",
    "- [C. Exploratory Data Analysis](#3)  \n",
    "    - [Question 1](#3.1)\n",
    "        - [Prepare Train & Test Set](#3.1.1)\n",
    "        - [Feature Engineer Training Set](#3.1.2)\n",
    "        - [Feature Engineer Test Set](#3.1.3)\n",
    "        - [Define Column Types](#3.1.4)\n",
    "        - [Extreme Value Removal](#3.1.5)\n",
    "        - [Create X_train & y_train](#3.1.6)\n",
    "        - [Create X_test & y_test](#3.1.7)\n",
    "        - [Modelling: Logistic Regression & LDA](#3.1.8)\n",
    "        - [Modelling: Random Forest](#3.1.9)\n",
    "        - [Modelling: Random Forest with Bagging](#3.1.10)\n",
    "        - [Modelling: XGBoost](#3.1.11)\n",
    "        - [Modelling: Final Model](#3.1.12)\n",
    "            - [Prepare Submission File](#3.1.12.1)\n",
    "            - [Run Final Model](#3.1.12.2)\n",
    "    - [Question 2](#3.2) \n",
    "    - [Question 3](#3.3)"
   ]
  },
  {
   "cell_type": "markdown",
   "id": "d8c0fb2b-6f5c-47a9-ae11-e007e6f81ac1",
   "metadata": {},
   "source": [
    "<a id='1'></a> \n",
    "## A. DATA ENGINEERING"
   ]
  },
  {
   "cell_type": "markdown",
   "id": "66303262-3398-4fab-afeb-69121e357e26",
   "metadata": {},
   "source": [
    "Here, I will create the final dataset to be used for training. This involves the following steps:\n",
    "1. Load the train_series.csv file and pivot the time-dependent columns (PAY, BILL_AMT, and PAY_AMT) to build one column of these per month. (Ex. PAY_JUNE, PAY_MAY, ..., BILL_AMT_JUNE, ...).\n",
    "2. Load train_customers.csv and include the pivoted table of time series data. The resulting table must be a table with one row per customer (ID).\n",
    "3. Include information from the target (train_target.csv) on the table."
   ]
  },
  {
   "cell_type": "code",
   "execution_count": 1,
   "id": "51d3fdcc-bd98-403b-ab0b-b7b5a69246d3",
   "metadata": {},
   "outputs": [],
   "source": [
    "# import required libraries\n",
    "import pandas as pd\n",
    "import numpy as np\n",
    "import matplotlib.pyplot as plt\n",
    "import seaborn as sns\n",
    "import plotly.express as px\n",
    "import plotly.graph_objects as go"
   ]
  },
  {
   "cell_type": "code",
   "execution_count": 2,
   "id": "c7cb6ef7-edea-4cfe-a4b6-16f2772560a9",
   "metadata": {},
   "outputs": [],
   "source": [
    "#Load train_series\n",
    "train_series = pd.read_csv(\"train_series.csv\")"
   ]
  },
  {
   "cell_type": "code",
   "execution_count": 4,
   "id": "ef9eac89-b8e3-490b-badf-6367663ace86",
   "metadata": {},
   "outputs": [
    {
     "data": {
      "text/html": [
       "<div>\n",
       "<style scoped>\n",
       "    .dataframe tbody tr th:only-of-type {\n",
       "        vertical-align: middle;\n",
       "    }\n",
       "\n",
       "    .dataframe tbody tr th {\n",
       "        vertical-align: top;\n",
       "    }\n",
       "\n",
       "    .dataframe thead th {\n",
       "        text-align: right;\n",
       "    }\n",
       "</style>\n",
       "<table border=\"1\" class=\"dataframe\">\n",
       "  <thead>\n",
       "    <tr style=\"text-align: right;\">\n",
       "      <th></th>\n",
       "      <th>ID</th>\n",
       "      <th>MONTH</th>\n",
       "      <th>PAY</th>\n",
       "      <th>BILL_AMT</th>\n",
       "      <th>PAY_AMT</th>\n",
       "    </tr>\n",
       "  </thead>\n",
       "  <tbody>\n",
       "    <tr>\n",
       "      <th>68556</th>\n",
       "      <td>0</td>\n",
       "      <td>JUNE</td>\n",
       "      <td>-1.0</td>\n",
       "      <td>28991.0</td>\n",
       "      <td>1300.0</td>\n",
       "    </tr>\n",
       "    <tr>\n",
       "      <th>68558</th>\n",
       "      <td>0</td>\n",
       "      <td>APRIL</td>\n",
       "      <td>0.0</td>\n",
       "      <td>13600.0</td>\n",
       "      <td>0.0</td>\n",
       "    </tr>\n",
       "    <tr>\n",
       "      <th>68559</th>\n",
       "      <td>0</td>\n",
       "      <td>MARCH</td>\n",
       "      <td>0.0</td>\n",
       "      <td>0.0</td>\n",
       "      <td>22373.0</td>\n",
       "    </tr>\n",
       "    <tr>\n",
       "      <th>68560</th>\n",
       "      <td>0</td>\n",
       "      <td>FEBRUARY</td>\n",
       "      <td>-1.0</td>\n",
       "      <td>44024.0</td>\n",
       "      <td>680.0</td>\n",
       "    </tr>\n",
       "    <tr>\n",
       "      <th>68561</th>\n",
       "      <td>0</td>\n",
       "      <td>JANUARY</td>\n",
       "      <td>0.0</td>\n",
       "      <td>18697.0</td>\n",
       "      <td>10000.0</td>\n",
       "    </tr>\n",
       "  </tbody>\n",
       "</table>\n",
       "</div>"
      ],
      "text/plain": [
       "       ID     MONTH  PAY  BILL_AMT  PAY_AMT\n",
       "68556   0      JUNE -1.0   28991.0   1300.0\n",
       "68558   0     APRIL  0.0   13600.0      0.0\n",
       "68559   0     MARCH  0.0       0.0  22373.0\n",
       "68560   0  FEBRUARY -1.0   44024.0    680.0\n",
       "68561   0   JANUARY  0.0   18697.0  10000.0"
      ]
     },
     "execution_count": 4,
     "metadata": {},
     "output_type": "execute_result"
    }
   ],
   "source": [
    "train_series.sort_values(\"ID\").head()"
   ]
  },
  {
   "cell_type": "code",
   "execution_count": 5,
   "id": "18f384f7-2afe-44c5-89f5-c0e2899b479a",
   "metadata": {},
   "outputs": [],
   "source": [
    "#pivot train_series\n",
    "train_pivot = train_series.pivot_table(\n",
    "    index=\"ID\",\n",
    "    columns=[\"MONTH\"],\n",
    "    values=[\"PAY\", \"BILL_AMT\", \"PAY_AMT\"]\n",
    ")"
   ]
  },
  {
   "cell_type": "code",
   "execution_count": 6,
   "id": "ca847d25-0482-4057-a0a1-447bbf023e18",
   "metadata": {},
   "outputs": [
    {
     "data": {
      "text/html": [
       "<div>\n",
       "<style scoped>\n",
       "    .dataframe tbody tr th:only-of-type {\n",
       "        vertical-align: middle;\n",
       "    }\n",
       "\n",
       "    .dataframe tbody tr th {\n",
       "        vertical-align: top;\n",
       "    }\n",
       "\n",
       "    .dataframe thead tr th {\n",
       "        text-align: left;\n",
       "    }\n",
       "\n",
       "    .dataframe thead tr:last-of-type th {\n",
       "        text-align: right;\n",
       "    }\n",
       "</style>\n",
       "<table border=\"1\" class=\"dataframe\">\n",
       "  <thead>\n",
       "    <tr>\n",
       "      <th></th>\n",
       "      <th colspan=\"6\" halign=\"left\">BILL_AMT</th>\n",
       "      <th colspan=\"6\" halign=\"left\">PAY</th>\n",
       "      <th colspan=\"6\" halign=\"left\">PAY_AMT</th>\n",
       "    </tr>\n",
       "    <tr>\n",
       "      <th>MONTH</th>\n",
       "      <th>APRIL</th>\n",
       "      <th>FEBRUARY</th>\n",
       "      <th>JANUARY</th>\n",
       "      <th>JUNE</th>\n",
       "      <th>MARCH</th>\n",
       "      <th>MAY</th>\n",
       "      <th>APRIL</th>\n",
       "      <th>FEBRUARY</th>\n",
       "      <th>JANUARY</th>\n",
       "      <th>JUNE</th>\n",
       "      <th>MARCH</th>\n",
       "      <th>MAY</th>\n",
       "      <th>APRIL</th>\n",
       "      <th>FEBRUARY</th>\n",
       "      <th>JANUARY</th>\n",
       "      <th>JUNE</th>\n",
       "      <th>MARCH</th>\n",
       "      <th>MAY</th>\n",
       "    </tr>\n",
       "    <tr>\n",
       "      <th>ID</th>\n",
       "      <th></th>\n",
       "      <th></th>\n",
       "      <th></th>\n",
       "      <th></th>\n",
       "      <th></th>\n",
       "      <th></th>\n",
       "      <th></th>\n",
       "      <th></th>\n",
       "      <th></th>\n",
       "      <th></th>\n",
       "      <th></th>\n",
       "      <th></th>\n",
       "      <th></th>\n",
       "      <th></th>\n",
       "      <th></th>\n",
       "      <th></th>\n",
       "      <th></th>\n",
       "      <th></th>\n",
       "    </tr>\n",
       "  </thead>\n",
       "  <tbody>\n",
       "    <tr>\n",
       "      <th>0</th>\n",
       "      <td>13600.0</td>\n",
       "      <td>44024.0</td>\n",
       "      <td>18697.0</td>\n",
       "      <td>28991.0</td>\n",
       "      <td>0.0</td>\n",
       "      <td>24391.0</td>\n",
       "      <td>0.0</td>\n",
       "      <td>-1.0</td>\n",
       "      <td>0.0</td>\n",
       "      <td>-1.0</td>\n",
       "      <td>0.0</td>\n",
       "      <td>0.0</td>\n",
       "      <td>0.0</td>\n",
       "      <td>680.0</td>\n",
       "      <td>10000.0</td>\n",
       "      <td>1300.0</td>\n",
       "      <td>22373.0</td>\n",
       "      <td>1000.0</td>\n",
       "    </tr>\n",
       "    <tr>\n",
       "      <th>1</th>\n",
       "      <td>53169.0</td>\n",
       "      <td>50372.0</td>\n",
       "      <td>49470.0</td>\n",
       "      <td>75662.0</td>\n",
       "      <td>50875.0</td>\n",
       "      <td>70073.0</td>\n",
       "      <td>0.0</td>\n",
       "      <td>0.0</td>\n",
       "      <td>0.0</td>\n",
       "      <td>0.0</td>\n",
       "      <td>0.0</td>\n",
       "      <td>0.0</td>\n",
       "      <td>2000.0</td>\n",
       "      <td>1903.0</td>\n",
       "      <td>2006.0</td>\n",
       "      <td>3212.0</td>\n",
       "      <td>1603.0</td>\n",
       "      <td>2106.0</td>\n",
       "    </tr>\n",
       "    <tr>\n",
       "      <th>2</th>\n",
       "      <td>161487.0</td>\n",
       "      <td>168094.0</td>\n",
       "      <td>170922.0</td>\n",
       "      <td>155910.0</td>\n",
       "      <td>157577.0</td>\n",
       "      <td>158819.0</td>\n",
       "      <td>2.0</td>\n",
       "      <td>2.0</td>\n",
       "      <td>2.0</td>\n",
       "      <td>2.0</td>\n",
       "      <td>2.0</td>\n",
       "      <td>2.0</td>\n",
       "      <td>0.0</td>\n",
       "      <td>5500.0</td>\n",
       "      <td>1000.0</td>\n",
       "      <td>6800.0</td>\n",
       "      <td>13000.0</td>\n",
       "      <td>6500.0</td>\n",
       "    </tr>\n",
       "    <tr>\n",
       "      <th>3</th>\n",
       "      <td>0.0</td>\n",
       "      <td>0.0</td>\n",
       "      <td>0.0</td>\n",
       "      <td>23570.0</td>\n",
       "      <td>0.0</td>\n",
       "      <td>735.0</td>\n",
       "      <td>-2.0</td>\n",
       "      <td>-2.0</td>\n",
       "      <td>-2.0</td>\n",
       "      <td>-2.0</td>\n",
       "      <td>-2.0</td>\n",
       "      <td>-2.0</td>\n",
       "      <td>0.0</td>\n",
       "      <td>0.0</td>\n",
       "      <td>0.0</td>\n",
       "      <td>742.0</td>\n",
       "      <td>0.0</td>\n",
       "      <td>0.0</td>\n",
       "    </tr>\n",
       "    <tr>\n",
       "      <th>4</th>\n",
       "      <td>9044.0</td>\n",
       "      <td>9417.0</td>\n",
       "      <td>9617.0</td>\n",
       "      <td>8214.0</td>\n",
       "      <td>9225.0</td>\n",
       "      <td>8034.0</td>\n",
       "      <td>0.0</td>\n",
       "      <td>0.0</td>\n",
       "      <td>0.0</td>\n",
       "      <td>0.0</td>\n",
       "      <td>0.0</td>\n",
       "      <td>0.0</td>\n",
       "      <td>331.0</td>\n",
       "      <td>356.0</td>\n",
       "      <td>330.0</td>\n",
       "      <td>1140.0</td>\n",
       "      <td>341.0</td>\n",
       "      <td>1150.0</td>\n",
       "    </tr>\n",
       "  </tbody>\n",
       "</table>\n",
       "</div>"
      ],
      "text/plain": [
       "       BILL_AMT                                                     PAY  \\\n",
       "MONTH     APRIL  FEBRUARY   JANUARY      JUNE     MARCH       MAY APRIL   \n",
       "ID                                                                        \n",
       "0       13600.0   44024.0   18697.0   28991.0       0.0   24391.0   0.0   \n",
       "1       53169.0   50372.0   49470.0   75662.0   50875.0   70073.0   0.0   \n",
       "2      161487.0  168094.0  170922.0  155910.0  157577.0  158819.0   2.0   \n",
       "3           0.0       0.0       0.0   23570.0       0.0     735.0  -2.0   \n",
       "4        9044.0    9417.0    9617.0    8214.0    9225.0    8034.0   0.0   \n",
       "\n",
       "                                       PAY_AMT                            \\\n",
       "MONTH FEBRUARY JANUARY JUNE MARCH  MAY   APRIL FEBRUARY  JANUARY    JUNE   \n",
       "ID                                                                         \n",
       "0         -1.0     0.0 -1.0   0.0  0.0     0.0    680.0  10000.0  1300.0   \n",
       "1          0.0     0.0  0.0   0.0  0.0  2000.0   1903.0   2006.0  3212.0   \n",
       "2          2.0     2.0  2.0   2.0  2.0     0.0   5500.0   1000.0  6800.0   \n",
       "3         -2.0    -2.0 -2.0  -2.0 -2.0     0.0      0.0      0.0   742.0   \n",
       "4          0.0     0.0  0.0   0.0  0.0   331.0    356.0    330.0  1140.0   \n",
       "\n",
       "                        \n",
       "MONTH    MARCH     MAY  \n",
       "ID                      \n",
       "0      22373.0  1000.0  \n",
       "1       1603.0  2106.0  \n",
       "2      13000.0  6500.0  \n",
       "3          0.0     0.0  \n",
       "4        341.0  1150.0  "
      ]
     },
     "execution_count": 6,
     "metadata": {},
     "output_type": "execute_result"
    }
   ],
   "source": [
    "#Inspect train_series\n",
    "train_pivot.head()"
   ]
  },
  {
   "cell_type": "code",
   "execution_count": 7,
   "id": "f7f1bbdf-79f4-4107-8236-6d4005781845",
   "metadata": {},
   "outputs": [],
   "source": [
    "#Load customer data\n",
    "customers = pd.read_csv(\"train_customers.csv\")"
   ]
  },
  {
   "cell_type": "code",
   "execution_count": 8,
   "id": "68ac5438-22da-494b-877d-b38ac92863e6",
   "metadata": {},
   "outputs": [
    {
     "data": {
      "text/html": [
       "<div>\n",
       "<style scoped>\n",
       "    .dataframe tbody tr th:only-of-type {\n",
       "        vertical-align: middle;\n",
       "    }\n",
       "\n",
       "    .dataframe tbody tr th {\n",
       "        vertical-align: top;\n",
       "    }\n",
       "\n",
       "    .dataframe thead th {\n",
       "        text-align: right;\n",
       "    }\n",
       "</style>\n",
       "<table border=\"1\" class=\"dataframe\">\n",
       "  <thead>\n",
       "    <tr style=\"text-align: right;\">\n",
       "      <th></th>\n",
       "      <th>ID</th>\n",
       "      <th>LIMIT_BAL</th>\n",
       "      <th>SEX</th>\n",
       "      <th>EDUCATION</th>\n",
       "      <th>MARRIAGE</th>\n",
       "      <th>AGE</th>\n",
       "    </tr>\n",
       "  </thead>\n",
       "  <tbody>\n",
       "    <tr>\n",
       "      <th>11426</th>\n",
       "      <td>0</td>\n",
       "      <td>40000.0</td>\n",
       "      <td>2</td>\n",
       "      <td>2</td>\n",
       "      <td>2</td>\n",
       "      <td>26</td>\n",
       "    </tr>\n",
       "    <tr>\n",
       "      <th>16839</th>\n",
       "      <td>1</td>\n",
       "      <td>80000.0</td>\n",
       "      <td>2</td>\n",
       "      <td>3</td>\n",
       "      <td>1</td>\n",
       "      <td>59</td>\n",
       "    </tr>\n",
       "    <tr>\n",
       "      <th>3844</th>\n",
       "      <td>2</td>\n",
       "      <td>170000.0</td>\n",
       "      <td>2</td>\n",
       "      <td>1</td>\n",
       "      <td>2</td>\n",
       "      <td>30</td>\n",
       "    </tr>\n",
       "    <tr>\n",
       "      <th>6157</th>\n",
       "      <td>3</td>\n",
       "      <td>200000.0</td>\n",
       "      <td>2</td>\n",
       "      <td>2</td>\n",
       "      <td>1</td>\n",
       "      <td>41</td>\n",
       "    </tr>\n",
       "    <tr>\n",
       "      <th>10924</th>\n",
       "      <td>4</td>\n",
       "      <td>50000.0</td>\n",
       "      <td>1</td>\n",
       "      <td>2</td>\n",
       "      <td>1</td>\n",
       "      <td>43</td>\n",
       "    </tr>\n",
       "  </tbody>\n",
       "</table>\n",
       "</div>"
      ],
      "text/plain": [
       "       ID  LIMIT_BAL  SEX  EDUCATION  MARRIAGE  AGE\n",
       "11426   0    40000.0    2          2         2   26\n",
       "16839   1    80000.0    2          3         1   59\n",
       "3844    2   170000.0    2          1         2   30\n",
       "6157    3   200000.0    2          2         1   41\n",
       "10924   4    50000.0    1          2         1   43"
      ]
     },
     "execution_count": 8,
     "metadata": {},
     "output_type": "execute_result"
    }
   ],
   "source": [
    "#Inspect customer data\n",
    "customers.sort_values('ID').head()"
   ]
  },
  {
   "cell_type": "code",
   "execution_count": 9,
   "id": "fb67ee8f-e6d7-4bbf-b32e-044e954a88a6",
   "metadata": {},
   "outputs": [
    {
     "name": "stderr",
     "output_type": "stream",
     "text": [
      "/var/folders/f6/n4pnylls119_nbw8y633bg_40000gn/T/ipykernel_37917/2740619096.py:2: FutureWarning: merging between different levels is deprecated and will be removed in a future version. (2 levels on the left, 1 on the right)\n",
      "  train = pd.merge(train_pivot, customers, on='ID')\n"
     ]
    }
   ],
   "source": [
    "#Join train series & customer data\n",
    "train = pd.merge(train_pivot, customers, on='ID')"
   ]
  },
  {
   "cell_type": "code",
   "execution_count": 10,
   "id": "9562792b-29f7-4243-a1cd-ee4a1c834ee8",
   "metadata": {},
   "outputs": [],
   "source": [
    "#Rename train columns\n",
    "train = train.rename(columns={\n",
    "                        train.columns[1]: 'BILL_AMT_APRIL',\n",
    "                        train.columns[2]: 'BILL_AMT_FEBRUARY',\n",
    "                        train.columns[3]: 'BILL_AMT_JANUARY',\n",
    "                        train.columns[4]: 'BILL_AMT_JUNE',\n",
    "                        train.columns[5]: 'BILL_AMT_MARCH',\n",
    "                        train.columns[6]: 'BILL_AMT_MAY',\n",
    "                        train.columns[7]: 'PAY_APRIL',\n",
    "                        train.columns[8]: 'PAY_FEBRUARY',\n",
    "                        train.columns[9]: 'PAY_JANUARY',\n",
    "                        train.columns[10]: 'PAY_JUNE',\n",
    "                        train.columns[11]: 'PAY_MARCH',\n",
    "                        train.columns[12]: 'PAY_MAY',\n",
    "                        train.columns[13]: 'PAY_AMT_APRIL',\n",
    "                        train.columns[14]: 'PAY_AMT_FEBRUARY',\n",
    "                        train.columns[15]: 'PAY_AMT_JANUARY',\n",
    "                        train.columns[16]: 'PAY_AMT_JUNE',\n",
    "                        train.columns[17]: 'PAY_AMT_MARCH',\n",
    "                        train.columns[18]: 'PAY_AMT_MAY',\n",
    "                       })"
   ]
  },
  {
   "cell_type": "code",
   "execution_count": 11,
   "id": "1418c939-5b42-4728-a163-e948026eea73",
   "metadata": {},
   "outputs": [
    {
     "data": {
      "text/html": [
       "<div>\n",
       "<style scoped>\n",
       "    .dataframe tbody tr th:only-of-type {\n",
       "        vertical-align: middle;\n",
       "    }\n",
       "\n",
       "    .dataframe tbody tr th {\n",
       "        vertical-align: top;\n",
       "    }\n",
       "\n",
       "    .dataframe thead th {\n",
       "        text-align: right;\n",
       "    }\n",
       "</style>\n",
       "<table border=\"1\" class=\"dataframe\">\n",
       "  <thead>\n",
       "    <tr style=\"text-align: right;\">\n",
       "      <th></th>\n",
       "      <th>ID</th>\n",
       "      <th>BILL_AMT_APRIL</th>\n",
       "      <th>BILL_AMT_FEBRUARY</th>\n",
       "      <th>BILL_AMT_JANUARY</th>\n",
       "      <th>BILL_AMT_JUNE</th>\n",
       "      <th>BILL_AMT_MARCH</th>\n",
       "      <th>BILL_AMT_MAY</th>\n",
       "      <th>PAY_APRIL</th>\n",
       "      <th>PAY_FEBRUARY</th>\n",
       "      <th>PAY_JANUARY</th>\n",
       "      <th>...</th>\n",
       "      <th>PAY_AMT_FEBRUARY</th>\n",
       "      <th>PAY_AMT_JANUARY</th>\n",
       "      <th>PAY_AMT_JUNE</th>\n",
       "      <th>PAY_AMT_MARCH</th>\n",
       "      <th>PAY_AMT_MAY</th>\n",
       "      <th>LIMIT_BAL</th>\n",
       "      <th>SEX</th>\n",
       "      <th>EDUCATION</th>\n",
       "      <th>MARRIAGE</th>\n",
       "      <th>AGE</th>\n",
       "    </tr>\n",
       "  </thead>\n",
       "  <tbody>\n",
       "    <tr>\n",
       "      <th>0</th>\n",
       "      <td>0</td>\n",
       "      <td>13600.0</td>\n",
       "      <td>44024.0</td>\n",
       "      <td>18697.0</td>\n",
       "      <td>28991.0</td>\n",
       "      <td>0.0</td>\n",
       "      <td>24391.0</td>\n",
       "      <td>0.0</td>\n",
       "      <td>-1.0</td>\n",
       "      <td>0.0</td>\n",
       "      <td>...</td>\n",
       "      <td>680.0</td>\n",
       "      <td>10000.0</td>\n",
       "      <td>1300.0</td>\n",
       "      <td>22373.0</td>\n",
       "      <td>1000.0</td>\n",
       "      <td>40000.0</td>\n",
       "      <td>2</td>\n",
       "      <td>2</td>\n",
       "      <td>2</td>\n",
       "      <td>26</td>\n",
       "    </tr>\n",
       "    <tr>\n",
       "      <th>1</th>\n",
       "      <td>1</td>\n",
       "      <td>53169.0</td>\n",
       "      <td>50372.0</td>\n",
       "      <td>49470.0</td>\n",
       "      <td>75662.0</td>\n",
       "      <td>50875.0</td>\n",
       "      <td>70073.0</td>\n",
       "      <td>0.0</td>\n",
       "      <td>0.0</td>\n",
       "      <td>0.0</td>\n",
       "      <td>...</td>\n",
       "      <td>1903.0</td>\n",
       "      <td>2006.0</td>\n",
       "      <td>3212.0</td>\n",
       "      <td>1603.0</td>\n",
       "      <td>2106.0</td>\n",
       "      <td>80000.0</td>\n",
       "      <td>2</td>\n",
       "      <td>3</td>\n",
       "      <td>1</td>\n",
       "      <td>59</td>\n",
       "    </tr>\n",
       "    <tr>\n",
       "      <th>2</th>\n",
       "      <td>2</td>\n",
       "      <td>161487.0</td>\n",
       "      <td>168094.0</td>\n",
       "      <td>170922.0</td>\n",
       "      <td>155910.0</td>\n",
       "      <td>157577.0</td>\n",
       "      <td>158819.0</td>\n",
       "      <td>2.0</td>\n",
       "      <td>2.0</td>\n",
       "      <td>2.0</td>\n",
       "      <td>...</td>\n",
       "      <td>5500.0</td>\n",
       "      <td>1000.0</td>\n",
       "      <td>6800.0</td>\n",
       "      <td>13000.0</td>\n",
       "      <td>6500.0</td>\n",
       "      <td>170000.0</td>\n",
       "      <td>2</td>\n",
       "      <td>1</td>\n",
       "      <td>2</td>\n",
       "      <td>30</td>\n",
       "    </tr>\n",
       "  </tbody>\n",
       "</table>\n",
       "<p>3 rows × 24 columns</p>\n",
       "</div>"
      ],
      "text/plain": [
       "   ID  BILL_AMT_APRIL  BILL_AMT_FEBRUARY  BILL_AMT_JANUARY  BILL_AMT_JUNE  \\\n",
       "0   0         13600.0            44024.0           18697.0        28991.0   \n",
       "1   1         53169.0            50372.0           49470.0        75662.0   \n",
       "2   2        161487.0           168094.0          170922.0       155910.0   \n",
       "\n",
       "   BILL_AMT_MARCH  BILL_AMT_MAY  PAY_APRIL  PAY_FEBRUARY  PAY_JANUARY  ...  \\\n",
       "0             0.0       24391.0        0.0          -1.0          0.0  ...   \n",
       "1         50875.0       70073.0        0.0           0.0          0.0  ...   \n",
       "2        157577.0      158819.0        2.0           2.0          2.0  ...   \n",
       "\n",
       "   PAY_AMT_FEBRUARY  PAY_AMT_JANUARY  PAY_AMT_JUNE  PAY_AMT_MARCH  \\\n",
       "0             680.0          10000.0        1300.0        22373.0   \n",
       "1            1903.0           2006.0        3212.0         1603.0   \n",
       "2            5500.0           1000.0        6800.0        13000.0   \n",
       "\n",
       "   PAY_AMT_MAY  LIMIT_BAL  SEX  EDUCATION  MARRIAGE  AGE  \n",
       "0       1000.0    40000.0    2          2         2   26  \n",
       "1       2106.0    80000.0    2          3         1   59  \n",
       "2       6500.0   170000.0    2          1         2   30  \n",
       "\n",
       "[3 rows x 24 columns]"
      ]
     },
     "execution_count": 11,
     "metadata": {},
     "output_type": "execute_result"
    }
   ],
   "source": [
    "train.head(3)"
   ]
  },
  {
   "cell_type": "code",
   "execution_count": 12,
   "id": "1385bced-3758-4cbb-8a91-b840e5e35396",
   "metadata": {},
   "outputs": [],
   "source": [
    "#Load target\n",
    "target = pd.read_csv(\"train_target.csv\")"
   ]
  },
  {
   "cell_type": "code",
   "execution_count": 13,
   "id": "4ec0812e-9838-4dbc-a271-ba33e29ce778",
   "metadata": {},
   "outputs": [
    {
     "data": {
      "text/html": [
       "<div>\n",
       "<style scoped>\n",
       "    .dataframe tbody tr th:only-of-type {\n",
       "        vertical-align: middle;\n",
       "    }\n",
       "\n",
       "    .dataframe tbody tr th {\n",
       "        vertical-align: top;\n",
       "    }\n",
       "\n",
       "    .dataframe thead th {\n",
       "        text-align: right;\n",
       "    }\n",
       "</style>\n",
       "<table border=\"1\" class=\"dataframe\">\n",
       "  <thead>\n",
       "    <tr style=\"text-align: right;\">\n",
       "      <th></th>\n",
       "      <th>ID</th>\n",
       "      <th>DEFAULT_JULY</th>\n",
       "    </tr>\n",
       "  </thead>\n",
       "  <tbody>\n",
       "    <tr>\n",
       "      <th>11426</th>\n",
       "      <td>0</td>\n",
       "      <td>0</td>\n",
       "    </tr>\n",
       "    <tr>\n",
       "      <th>16839</th>\n",
       "      <td>1</td>\n",
       "      <td>0</td>\n",
       "    </tr>\n",
       "    <tr>\n",
       "      <th>3844</th>\n",
       "      <td>2</td>\n",
       "      <td>1</td>\n",
       "    </tr>\n",
       "    <tr>\n",
       "      <th>6157</th>\n",
       "      <td>3</td>\n",
       "      <td>1</td>\n",
       "    </tr>\n",
       "    <tr>\n",
       "      <th>10924</th>\n",
       "      <td>4</td>\n",
       "      <td>0</td>\n",
       "    </tr>\n",
       "  </tbody>\n",
       "</table>\n",
       "</div>"
      ],
      "text/plain": [
       "       ID  DEFAULT_JULY\n",
       "11426   0             0\n",
       "16839   1             0\n",
       "3844    2             1\n",
       "6157    3             1\n",
       "10924   4             0"
      ]
     },
     "execution_count": 13,
     "metadata": {},
     "output_type": "execute_result"
    }
   ],
   "source": [
    "#Inspect target\n",
    "target.sort_values(\"ID\").head()"
   ]
  },
  {
   "cell_type": "code",
   "execution_count": 14,
   "id": "f6db1803-413f-4933-9121-e08af482d796",
   "metadata": {},
   "outputs": [],
   "source": [
    "#Join final train with target\n",
    "final_train = pd.merge(train, target, on=\"ID\")"
   ]
  },
  {
   "cell_type": "code",
   "execution_count": 15,
   "id": "5ab1bdf7-763b-4b8d-9f0c-ab3a9abc50ff",
   "metadata": {},
   "outputs": [
    {
     "data": {
      "text/html": [
       "<div>\n",
       "<style scoped>\n",
       "    .dataframe tbody tr th:only-of-type {\n",
       "        vertical-align: middle;\n",
       "    }\n",
       "\n",
       "    .dataframe tbody tr th {\n",
       "        vertical-align: top;\n",
       "    }\n",
       "\n",
       "    .dataframe thead th {\n",
       "        text-align: right;\n",
       "    }\n",
       "</style>\n",
       "<table border=\"1\" class=\"dataframe\">\n",
       "  <thead>\n",
       "    <tr style=\"text-align: right;\">\n",
       "      <th></th>\n",
       "      <th>ID</th>\n",
       "      <th>BILL_AMT_APRIL</th>\n",
       "      <th>BILL_AMT_FEBRUARY</th>\n",
       "      <th>BILL_AMT_JANUARY</th>\n",
       "      <th>BILL_AMT_JUNE</th>\n",
       "      <th>BILL_AMT_MARCH</th>\n",
       "      <th>BILL_AMT_MAY</th>\n",
       "      <th>PAY_APRIL</th>\n",
       "      <th>PAY_FEBRUARY</th>\n",
       "      <th>PAY_JANUARY</th>\n",
       "      <th>...</th>\n",
       "      <th>PAY_AMT_JANUARY</th>\n",
       "      <th>PAY_AMT_JUNE</th>\n",
       "      <th>PAY_AMT_MARCH</th>\n",
       "      <th>PAY_AMT_MAY</th>\n",
       "      <th>LIMIT_BAL</th>\n",
       "      <th>SEX</th>\n",
       "      <th>EDUCATION</th>\n",
       "      <th>MARRIAGE</th>\n",
       "      <th>AGE</th>\n",
       "      <th>DEFAULT_JULY</th>\n",
       "    </tr>\n",
       "  </thead>\n",
       "  <tbody>\n",
       "    <tr>\n",
       "      <th>0</th>\n",
       "      <td>0</td>\n",
       "      <td>13600.0</td>\n",
       "      <td>44024.0</td>\n",
       "      <td>18697.0</td>\n",
       "      <td>28991.0</td>\n",
       "      <td>0.0</td>\n",
       "      <td>24391.0</td>\n",
       "      <td>0.0</td>\n",
       "      <td>-1.0</td>\n",
       "      <td>0.0</td>\n",
       "      <td>...</td>\n",
       "      <td>10000.0</td>\n",
       "      <td>1300.0</td>\n",
       "      <td>22373.0</td>\n",
       "      <td>1000.0</td>\n",
       "      <td>40000.0</td>\n",
       "      <td>2</td>\n",
       "      <td>2</td>\n",
       "      <td>2</td>\n",
       "      <td>26</td>\n",
       "      <td>0</td>\n",
       "    </tr>\n",
       "    <tr>\n",
       "      <th>1</th>\n",
       "      <td>1</td>\n",
       "      <td>53169.0</td>\n",
       "      <td>50372.0</td>\n",
       "      <td>49470.0</td>\n",
       "      <td>75662.0</td>\n",
       "      <td>50875.0</td>\n",
       "      <td>70073.0</td>\n",
       "      <td>0.0</td>\n",
       "      <td>0.0</td>\n",
       "      <td>0.0</td>\n",
       "      <td>...</td>\n",
       "      <td>2006.0</td>\n",
       "      <td>3212.0</td>\n",
       "      <td>1603.0</td>\n",
       "      <td>2106.0</td>\n",
       "      <td>80000.0</td>\n",
       "      <td>2</td>\n",
       "      <td>3</td>\n",
       "      <td>1</td>\n",
       "      <td>59</td>\n",
       "      <td>0</td>\n",
       "    </tr>\n",
       "    <tr>\n",
       "      <th>2</th>\n",
       "      <td>2</td>\n",
       "      <td>161487.0</td>\n",
       "      <td>168094.0</td>\n",
       "      <td>170922.0</td>\n",
       "      <td>155910.0</td>\n",
       "      <td>157577.0</td>\n",
       "      <td>158819.0</td>\n",
       "      <td>2.0</td>\n",
       "      <td>2.0</td>\n",
       "      <td>2.0</td>\n",
       "      <td>...</td>\n",
       "      <td>1000.0</td>\n",
       "      <td>6800.0</td>\n",
       "      <td>13000.0</td>\n",
       "      <td>6500.0</td>\n",
       "      <td>170000.0</td>\n",
       "      <td>2</td>\n",
       "      <td>1</td>\n",
       "      <td>2</td>\n",
       "      <td>30</td>\n",
       "      <td>1</td>\n",
       "    </tr>\n",
       "  </tbody>\n",
       "</table>\n",
       "<p>3 rows × 25 columns</p>\n",
       "</div>"
      ],
      "text/plain": [
       "   ID  BILL_AMT_APRIL  BILL_AMT_FEBRUARY  BILL_AMT_JANUARY  BILL_AMT_JUNE  \\\n",
       "0   0         13600.0            44024.0           18697.0        28991.0   \n",
       "1   1         53169.0            50372.0           49470.0        75662.0   \n",
       "2   2        161487.0           168094.0          170922.0       155910.0   \n",
       "\n",
       "   BILL_AMT_MARCH  BILL_AMT_MAY  PAY_APRIL  PAY_FEBRUARY  PAY_JANUARY  ...  \\\n",
       "0             0.0       24391.0        0.0          -1.0          0.0  ...   \n",
       "1         50875.0       70073.0        0.0           0.0          0.0  ...   \n",
       "2        157577.0      158819.0        2.0           2.0          2.0  ...   \n",
       "\n",
       "   PAY_AMT_JANUARY  PAY_AMT_JUNE  PAY_AMT_MARCH  PAY_AMT_MAY  LIMIT_BAL  SEX  \\\n",
       "0          10000.0        1300.0        22373.0       1000.0    40000.0    2   \n",
       "1           2006.0        3212.0         1603.0       2106.0    80000.0    2   \n",
       "2           1000.0        6800.0        13000.0       6500.0   170000.0    2   \n",
       "\n",
       "   EDUCATION  MARRIAGE  AGE  DEFAULT_JULY  \n",
       "0          2         2   26             0  \n",
       "1          3         1   59             0  \n",
       "2          1         2   30             1  \n",
       "\n",
       "[3 rows x 25 columns]"
      ]
     },
     "execution_count": 15,
     "metadata": {},
     "output_type": "execute_result"
    }
   ],
   "source": [
    "final_train.sort_values(\"ID\").head(3)"
   ]
  },
  {
   "cell_type": "code",
   "execution_count": 16,
   "id": "d77eb9e9-4524-4873-827f-eddc038a331f",
   "metadata": {
    "tags": []
   },
   "outputs": [
    {
     "data": {
      "text/plain": [
       "ID                   0\n",
       "BILL_AMT_APRIL       0\n",
       "BILL_AMT_FEBRUARY    0\n",
       "BILL_AMT_JANUARY     0\n",
       "BILL_AMT_JUNE        0\n",
       "BILL_AMT_MARCH       0\n",
       "BILL_AMT_MAY         0\n",
       "PAY_APRIL            0\n",
       "PAY_FEBRUARY         0\n",
       "PAY_JANUARY          0\n",
       "PAY_JUNE             0\n",
       "PAY_MARCH            0\n",
       "PAY_MAY              0\n",
       "PAY_AMT_APRIL        0\n",
       "PAY_AMT_FEBRUARY     0\n",
       "PAY_AMT_JANUARY      0\n",
       "PAY_AMT_JUNE         0\n",
       "PAY_AMT_MARCH        0\n",
       "PAY_AMT_MAY          0\n",
       "LIMIT_BAL            0\n",
       "SEX                  0\n",
       "EDUCATION            0\n",
       "MARRIAGE             0\n",
       "AGE                  0\n",
       "DEFAULT_JULY         0\n",
       "dtype: int64"
      ]
     },
     "execution_count": 16,
     "metadata": {},
     "output_type": "execute_result"
    }
   ],
   "source": [
    "#Check for null values\n",
    "final_train.isnull().sum()"
   ]
  },
  {
   "cell_type": "code",
   "execution_count": 17,
   "id": "56d3bf04-44fc-49a4-a53a-cfabac9d9f02",
   "metadata": {},
   "outputs": [],
   "source": [
    "final_train.to_csv(\"LeitaoBeatriz_A_train.csv\")"
   ]
  },
  {
   "cell_type": "markdown",
   "id": "4ff8bc6e-1905-442d-9a8f-d231dc142cb5",
   "metadata": {},
   "source": [
    "<a id='2'></a>\n",
    "## **B. EXPLORATORY DATA ANALYSIS (2 points)**"
   ]
  },
  {
   "cell_type": "code",
   "execution_count": 18,
   "id": "a9fffb5f-e057-49b3-b39d-65cc97af1f3a",
   "metadata": {},
   "outputs": [],
   "source": [
    "#Create df with number of defaultes for each level of education\n",
    "ed_default = final_train.groupby(\"EDUCATION\")[\"DEFAULT_JULY\"].value_counts().to_frame().unstack().iloc[:,1]"
   ]
  },
  {
   "cell_type": "code",
   "execution_count": 19,
   "id": "1d33f7d3-5b85-46c5-b586-06bc0cd631ca",
   "metadata": {},
   "outputs": [
    {
     "data": {
      "text/plain": [
       "EDUCATION\n",
       "0       NaN\n",
       "1    1336.0\n",
       "2    2225.0\n",
       "3     836.0\n",
       "4       6.0\n",
       "5      15.0\n",
       "6       2.0\n",
       "Name: (DEFAULT_JULY, 1), dtype: float64"
      ]
     },
     "execution_count": 19,
     "metadata": {},
     "output_type": "execute_result"
    }
   ],
   "source": [
    "ed_default"
   ]
  },
  {
   "cell_type": "code",
   "execution_count": 20,
   "id": "1eb84fe8-9ecb-43a4-a57b-b81690be45fe",
   "metadata": {},
   "outputs": [
    {
     "data": {
      "text/plain": [
       "<matplotlib.legend.Legend at 0x7fa4cbf79850>"
      ]
     },
     "execution_count": 20,
     "metadata": {},
     "output_type": "execute_result"
    },
    {
     "data": {
      "image/png": "[encoded data removed]",
      "text/plain": [
       "<Figure size 432x288 with 1 Axes>"
      ]
     },
     "metadata": {
      "needs_background": "light"
     },
     "output_type": "display_data"
    }
   ],
   "source": [
    "#Plot data\n",
    "plot = ed_default.plot.bar()\n",
    "\n",
    "plot.set_xlabel('Education Level')\n",
    "plot.set_ylabel('Number of People')\n",
    "plot.set_title('Number of Defaulters per Education Level')\n",
    "\n",
    "plt.legend(labels=[\"defaulters\"])"
   ]
  },
  {
   "cell_type": "markdown",
   "id": "82247f7a-d07b-433c-9eaf-398c1c2e5fa9",
   "metadata": {},
   "source": [
    "Insights from the plot above:\n",
    "- Level of education 2 has the highest number of defaulters\n",
    "- Level of education 0 has the lowest number of defaulters (none)\n",
    "- The distribution of defaulters given education is skewed\n",
    "- There are very little defaulters with higher levels of education (4-6). However, there are very little IDs in the training set with higher education levels so the ratio of non defaulters to defaulters at higher education levels may be similar to that of other education levels.\n",
    "- There is very little data for 0 (not described in dataset description), 4 (others), 5 (unknown), and 6 (unknown) so might make sense to bin these."
   ]
  },
  {
   "cell_type": "code",
   "execution_count": 21,
   "id": "d5ed3f89-3f84-4460-95db-7704c29e6902",
   "metadata": {},
   "outputs": [],
   "source": [
    "#Create df for defaulters and non defaulters\n",
    "non_defaulters = final_train.loc[final_train[\"DEFAULT_JULY\"] == 0]\n",
    "defaulters = final_train.loc[final_train[\"DEFAULT_JULY\"] == 1]"
   ]
  },
  {
   "cell_type": "code",
   "execution_count": 22,
   "id": "267d928f-8aa6-447a-8aaf-1ec9984c281c",
   "metadata": {},
   "outputs": [
    {
     "data": {
      "image/png": "[encoded data removed]",
      "text/plain": [
       "<Figure size 1080x360 with 1 Axes>"
      ]
     },
     "metadata": {
      "needs_background": "light"
     },
     "output_type": "display_data"
    }
   ],
   "source": [
    "#Creating histogram of LIMIT_BAL for non defaulters\n",
    "plot_2 = non_defaulters[\"LIMIT_BAL\"].plot.hist(figsize=(15,5), bins=70)\n",
    "\n",
    "plot_2.set_xlabel('Limit Balance')\n",
    "plot_2.set_ylabel('Number of People')\n",
    "plot_2.set_title('Limit Balance Distribution for Non Defaulters')\n",
    "plot_2.set_xlim([0,1000000])\n",
    "plot_2.ticklabel_format(style='plain', axis='x', scilimits=(0,0))"
   ]
  },
  {
   "cell_type": "code",
   "execution_count": 23,
   "id": "2540777e-7474-4f86-8ed2-3618398c96ff",
   "metadata": {},
   "outputs": [
    {
     "data": {
      "text/plain": [
       "(-26500.0, 1000000.0)"
      ]
     },
     "execution_count": 23,
     "metadata": {},
     "output_type": "execute_result"
    },
    {
     "data": {
      "image/png": "[encoded data removed]",
      "text/plain": [
       "<Figure size 1080x360 with 1 Axes>"
      ]
     },
     "metadata": {
      "needs_background": "light"
     },
     "output_type": "display_data"
    }
   ],
   "source": [
    "#Creating histogram of LIMIT_BAL for defaulters\n",
    "plot_3 = defaulters[\"LIMIT_BAL\"].plot.hist(figsize=(15,5), bins=70)\n",
    "\n",
    "plot_3.set_xlabel('Limit Balance')\n",
    "plot_3.set_ylabel('Number of People')\n",
    "plot_3.set_title('Limit Balance Distribution for Defaulters')\n",
    "plot_3.ticklabel_format(style='plain', axis='x', scilimits=(0,0))\n",
    "plot_3.set_xlim(right=1000000)"
   ]
  },
  {
   "cell_type": "markdown",
   "id": "b5c9e70c-1b26-4b11-9817-c588bd933e16",
   "metadata": {},
   "source": [
    "Insights from histograms above:\n",
    "- Distribution for both defaulters & non-defaulters is skewed to the left but looks similar\n",
    "- There are a lot more non-defaulters than defaulters\n",
    "- There is an outlier representing a non fefaulter with a much higher limit balance than the rest\n",
    "- Non defaulters have a higher maximum value of limit balance than defaulters"
   ]
  },
  {
   "cell_type": "code",
   "execution_count": 24,
   "id": "0aa3fec7-ce83-4681-b41d-4906d6f0188d",
   "metadata": {},
   "outputs": [
    {
     "data": {
      "text/plain": [
       "<AxesSubplot:>"
      ]
     },
     "execution_count": 24,
     "metadata": {},
     "output_type": "execute_result"
    },
    {
     "data": {
      "image/png": "[encoded data removed]",
      "text/plain": [
       "<Figure size 1440x1080 with 2 Axes>"
      ]
     },
     "metadata": {
      "needs_background": "light"
     },
     "output_type": "display_data"
    }
   ],
   "source": [
    "#Create correlation matrix\n",
    "plt.figure(figsize=(20, 15))\n",
    "\n",
    "sns.heatmap(final_train.corr(), annot=True)"
   ]
  },
  {
   "cell_type": "markdown",
   "id": "05a58017-a609-43b8-a941-03ad33f43cf6",
   "metadata": {},
   "source": [
    "Insights from plot above:\n",
    "- No variables have a high correlation with the target variable\n",
    "- The time series features of 'bill amounts' and 'pay' are highly correlated with themselves across months but 'pay amount' does not. 'Bill amounts' have the highest range of correlations (0.85 - 0.92) and 'pay' the second highest (0.57 - 0.78). If using logistic regression, high correlations should be removed"
   ]
  },
  {
   "cell_type": "code",
   "execution_count": 25,
   "id": "e9204ea4-34f3-4517-a998-96922920694b",
   "metadata": {},
   "outputs": [
    {
     "data": {
      "text/plain": [
       "<AxesSubplot:ylabel='Frequency'>"
      ]
     },
     "execution_count": 25,
     "metadata": {},
     "output_type": "execute_result"
    },
    {
     "data": {
      "image/png": "[encoded data removed]",
      "text/plain": [
       "<Figure size 1080x360 with 1 Axes>"
      ]
     },
     "metadata": {
      "needs_background": "light"
     },
     "output_type": "display_data"
    }
   ],
   "source": [
    "#Check age distribution\n",
    "final_train[\"AGE\"].plot.hist(figsize=(15, 5), bins=50)"
   ]
  },
  {
   "cell_type": "markdown",
   "id": "d83e971c-755d-44db-a831-d6f78771669c",
   "metadata": {},
   "source": [
    "Insights from plot above:\n",
    "- Age distribution is skewed to the left with a lot more younger people than older people\n",
    "- The highest spikes on the gaph shows that the age range with the most amount of people in the dataset is in the late 20s followed by the mid 30s and early mid 40s"
   ]
  },
  {
   "cell_type": "code",
   "execution_count": 26,
   "id": "cfed2fea-976d-482f-8318-6f96ffb4e370",
   "metadata": {},
   "outputs": [],
   "source": [
    "#Marital status per defaulters\n",
    "default_marriage = final_train.groupby(\"DEFAULT_JULY\")[\"MARRIAGE\"].value_counts().to_frame().unstack()#.iloc[1,:]"
   ]
  },
  {
   "cell_type": "code",
   "execution_count": 27,
   "id": "057f3475-176a-4983-b619-71dc0348cece",
   "metadata": {},
   "outputs": [
    {
     "data": {
      "text/html": [
       "<div>\n",
       "<style scoped>\n",
       "    .dataframe tbody tr th:only-of-type {\n",
       "        vertical-align: middle;\n",
       "    }\n",
       "\n",
       "    .dataframe tbody tr th {\n",
       "        vertical-align: top;\n",
       "    }\n",
       "\n",
       "    .dataframe thead tr th {\n",
       "        text-align: left;\n",
       "    }\n",
       "\n",
       "    .dataframe thead tr:last-of-type th {\n",
       "        text-align: right;\n",
       "    }\n",
       "</style>\n",
       "<table border=\"1\" class=\"dataframe\">\n",
       "  <thead>\n",
       "    <tr>\n",
       "      <th></th>\n",
       "      <th colspan=\"4\" halign=\"left\">MARRIAGE</th>\n",
       "    </tr>\n",
       "    <tr>\n",
       "      <th>MARRIAGE</th>\n",
       "      <th>0</th>\n",
       "      <th>1</th>\n",
       "      <th>2</th>\n",
       "      <th>3</th>\n",
       "    </tr>\n",
       "    <tr>\n",
       "      <th>DEFAULT_JULY</th>\n",
       "      <th></th>\n",
       "      <th></th>\n",
       "      <th></th>\n",
       "      <th></th>\n",
       "    </tr>\n",
       "  </thead>\n",
       "  <tbody>\n",
       "    <tr>\n",
       "      <th>0</th>\n",
       "      <td>32</td>\n",
       "      <td>6991</td>\n",
       "      <td>8402</td>\n",
       "      <td>155</td>\n",
       "    </tr>\n",
       "    <tr>\n",
       "      <th>1</th>\n",
       "      <td>4</td>\n",
       "      <td>2152</td>\n",
       "      <td>2203</td>\n",
       "      <td>61</td>\n",
       "    </tr>\n",
       "  </tbody>\n",
       "</table>\n",
       "</div>"
      ],
      "text/plain": [
       "             MARRIAGE                 \n",
       "MARRIAGE            0     1     2    3\n",
       "DEFAULT_JULY                          \n",
       "0                  32  6991  8402  155\n",
       "1                   4  2152  2203   61"
      ]
     },
     "execution_count": 27,
     "metadata": {},
     "output_type": "execute_result"
    }
   ],
   "source": [
    "default_marriage"
   ]
  },
  {
   "cell_type": "code",
   "execution_count": 28,
   "id": "3e6d813c-19f6-4943-893e-ecda4bcd3c72",
   "metadata": {},
   "outputs": [
    {
     "data": {
      "text/plain": [
       "<matplotlib.legend.Legend at 0x7fa4b9b984c0>"
      ]
     },
     "execution_count": 28,
     "metadata": {},
     "output_type": "execute_result"
    },
    {
     "data": {
      "image/png": "[encoded data removed]",
      "text/plain": [
       "<Figure size 432x288 with 1 Axes>"
      ]
     },
     "metadata": {
      "needs_background": "light"
     },
     "output_type": "display_data"
    }
   ],
   "source": [
    "plot_4 = default_marriage.plot.bar()\n",
    "\n",
    "plot_4.set_xlabel('Non-Defaulters & Defaulters')\n",
    "plot_4.set_ylabel('Number of People')\n",
    "plot_4.set_title('Distribution of Marital Status for Defaulters & Non-Defaulters')\n",
    "\n",
    "plt.legend(labels=[\"Unknown\", \"Married\", \"Single\", \"Others\"])"
   ]
  },
  {
   "cell_type": "markdown",
   "id": "950f9401-f348-4958-8661-a2b6113b5e09",
   "metadata": {},
   "source": [
    "Insights from plot above:\n",
    "- There are more single than married non-defaulters whereas the amount of defautlers that are marreid and single do not differ greatly\n",
    "- There is an unknown marriage category with very little records, so if this featue is important in a model, could consider binning together 'unknown' with 'others' or removing rows for unknokwn as dataset is quite large."
   ]
  },
  {
   "cell_type": "code",
   "execution_count": 29,
   "id": "ed2c9457-0dc2-4121-8ebc-29c5e8ad8b7a",
   "metadata": {},
   "outputs": [
    {
     "data": {
      "text/plain": [
       "<AxesSubplot:>"
      ]
     },
     "execution_count": 29,
     "metadata": {},
     "output_type": "execute_result"
    },
    {
     "data": {
      "image/png": "[encoded data removed]",
      "text/plain": [
       "<Figure size 432x288 with 1 Axes>"
      ]
     },
     "metadata": {
      "needs_background": "light"
     },
     "output_type": "display_data"
    }
   ],
   "source": [
    "#Check if target class is unbalanced\n",
    "final_train[\"DEFAULT_JULY\"].value_counts().plot.bar()"
   ]
  },
  {
   "cell_type": "markdown",
   "id": "8f649c3d-e916-4976-a17d-32eb0fae1a1f",
   "metadata": {},
   "source": [
    "Insights from plot above:\n",
    "- Target variable is unbalanced. This needs to be considered when running models, either through statificatio or undersampling the majority class and oversampling the minority class."
   ]
  },
  {
   "cell_type": "code",
   "execution_count": 30,
   "id": "7e18cb38-f8c8-4e85-99e3-2975c8a25c3d",
   "metadata": {},
   "outputs": [
    {
     "data": {
      "image/png": "[encoded data removed]",
      "text/plain": [
       "<Figure size 1080x1080 with 6 Axes>"
      ]
     },
     "metadata": {
      "needs_background": "light"
     },
     "output_type": "display_data"
    }
   ],
   "source": [
    "#Look at feature distribution of bill_amt\n",
    "fig, axes = plt.subplots(3, 2, figsize=(15, 15))\n",
    "i = 1\n",
    "\n",
    "for triaxis in axes:\n",
    "    for axis in triaxis:\n",
    "        train.hist(column = train.columns[i], bins = 100, ax=axis)\n",
    "        i = i+1\n",
    "        if i > 6:\n",
    "            break"
   ]
  },
  {
   "cell_type": "code",
   "execution_count": 31,
   "id": "cdc77028-e935-4f0f-bb31-f0a2ce9abb2f",
   "metadata": {},
   "outputs": [
    {
     "data": {
      "image/png": "[encoded data removed]",
      "text/plain": [
       "<Figure size 1080x1080 with 6 Axes>"
      ]
     },
     "metadata": {
      "needs_background": "light"
     },
     "output_type": "display_data"
    }
   ],
   "source": [
    "#Look at feature distribution of pay_amt\n",
    "fig, axes = plt.subplots(3, 2, figsize=(15, 15))\n",
    "i = 12\n",
    "for triaxis in axes:\n",
    "    for axis in triaxis:\n",
    "        train.hist(column = train.columns[i], bins = 100, ax=axis)\n",
    "        i = i+1\n",
    "        if i >= 18:\n",
    "            break"
   ]
  },
  {
   "cell_type": "markdown",
   "id": "9dcbc2cb-c32a-4813-80f2-e1626c043cbe",
   "metadata": {},
   "source": [
    "Insights from plots above:\n",
    "- Both bill_amt and pay_amt have very skewed distributions with some major outliers on the right.\n",
    "- Could consider outlier removal "
   ]
  },
  {
   "cell_type": "code",
   "execution_count": 32,
   "id": "95f4ff77-ee44-4fff-a4e3-007c2190b9bb",
   "metadata": {},
   "outputs": [
    {
     "name": "stdout",
     "output_type": "stream",
     "text": [
      "<class 'pandas.core.frame.DataFrame'>\n",
      "Int64Index: 20000 entries, 0 to 19999\n",
      "Data columns (total 25 columns):\n",
      " #   Column             Non-Null Count  Dtype  \n",
      "---  ------             --------------  -----  \n",
      " 0   ID                 20000 non-null  int64  \n",
      " 1   BILL_AMT_APRIL     20000 non-null  float64\n",
      " 2   BILL_AMT_FEBRUARY  20000 non-null  float64\n",
      " 3   BILL_AMT_JANUARY   20000 non-null  float64\n",
      " 4   BILL_AMT_JUNE      20000 non-null  float64\n",
      " 5   BILL_AMT_MARCH     20000 non-null  float64\n",
      " 6   BILL_AMT_MAY       20000 non-null  float64\n",
      " 7   PAY_APRIL          20000 non-null  float64\n",
      " 8   PAY_FEBRUARY       20000 non-null  float64\n",
      " 9   PAY_JANUARY        20000 non-null  float64\n",
      " 10  PAY_JUNE           20000 non-null  float64\n",
      " 11  PAY_MARCH          20000 non-null  float64\n",
      " 12  PAY_MAY            20000 non-null  float64\n",
      " 13  PAY_AMT_APRIL      20000 non-null  float64\n",
      " 14  PAY_AMT_FEBRUARY   20000 non-null  float64\n",
      " 15  PAY_AMT_JANUARY    20000 non-null  float64\n",
      " 16  PAY_AMT_JUNE       20000 non-null  float64\n",
      " 17  PAY_AMT_MARCH      20000 non-null  float64\n",
      " 18  PAY_AMT_MAY        20000 non-null  float64\n",
      " 19  LIMIT_BAL          20000 non-null  float64\n",
      " 20  SEX                20000 non-null  int64  \n",
      " 21  EDUCATION          20000 non-null  int64  \n",
      " 22  MARRIAGE           20000 non-null  int64  \n",
      " 23  AGE                20000 non-null  int64  \n",
      " 24  DEFAULT_JULY       20000 non-null  int64  \n",
      "dtypes: float64(19), int64(6)\n",
      "memory usage: 4.0 MB\n"
     ]
    }
   ],
   "source": [
    "final_train.info()"
   ]
  },
  {
   "cell_type": "markdown",
   "id": "a790e481-a06b-4a03-9c6d-d82f4378cc63",
   "metadata": {},
   "source": [
    "<a id='3'></a>\n",
    "## **C. MACHINE LEARNING (5 points)**"
   ]
  },
  {
   "cell_type": "markdown",
   "id": "db9f35d5-fb2a-4e6b-85bc-72fb278a3178",
   "metadata": {},
   "source": [
    "In this part, I will build a machine learning models to estimate the probability of default of the customers. This requires 2 additional dataets:\n",
    "1. test_data.csv - Contains new data from 9000 customers with the same structure as the final training data. This will be used as a validation set\n",
    "2. submission_features.csv - Test set that contains data associated with unseen customers, but without the target. To be used to make predictions to upload to Kaggle."
   ]
  },
  {
   "cell_type": "markdown",
   "id": "f1a16793-1717-48bc-8271-a5cc792676ba",
   "metadata": {},
   "source": [
    "<a id='3.1.1'></a>\n",
    "### Prepare Train & Test Set"
   ]
  },
  {
   "cell_type": "code",
   "execution_count": 33,
   "id": "80ca8d72-f507-48a7-8f30-cdd26163ab57",
   "metadata": {},
   "outputs": [],
   "source": [
    "#Rorder training set cols\n",
    "train = final_train.reindex(sorted(final_train.columns), axis=1)"
   ]
  },
  {
   "cell_type": "code",
   "execution_count": 34,
   "id": "3875a098-eb43-4932-a52d-cd63db30f1a2",
   "metadata": {},
   "outputs": [],
   "source": [
    "#Load test set\n",
    "test = pd.read_csv(\"test_data.csv\")\n",
    "\n",
    "#Reorder test set cols to amtch training set\n",
    "test = test.reindex(sorted(test.columns), axis=1)"
   ]
  },
  {
   "cell_type": "code",
   "execution_count": 35,
   "id": "c2812788-b9a9-4bc7-b345-a7b3025b5e08",
   "metadata": {
    "tags": []
   },
   "outputs": [
    {
     "name": "stdout",
     "output_type": "stream",
     "text": [
      "<class 'pandas.core.frame.DataFrame'>\n",
      "Int64Index: 20000 entries, 0 to 19999\n",
      "Data columns (total 25 columns):\n",
      " #   Column             Non-Null Count  Dtype  \n",
      "---  ------             --------------  -----  \n",
      " 0   AGE                20000 non-null  int64  \n",
      " 1   BILL_AMT_APRIL     20000 non-null  float64\n",
      " 2   BILL_AMT_FEBRUARY  20000 non-null  float64\n",
      " 3   BILL_AMT_JANUARY   20000 non-null  float64\n",
      " 4   BILL_AMT_JUNE      20000 non-null  float64\n",
      " 5   BILL_AMT_MARCH     20000 non-null  float64\n",
      " 6   BILL_AMT_MAY       20000 non-null  float64\n",
      " 7   DEFAULT_JULY       20000 non-null  int64  \n",
      " 8   EDUCATION          20000 non-null  int64  \n",
      " 9   ID                 20000 non-null  int64  \n",
      " 10  LIMIT_BAL          20000 non-null  float64\n",
      " 11  MARRIAGE           20000 non-null  int64  \n",
      " 12  PAY_AMT_APRIL      20000 non-null  float64\n",
      " 13  PAY_AMT_FEBRUARY   20000 non-null  float64\n",
      " 14  PAY_AMT_JANUARY    20000 non-null  float64\n",
      " 15  PAY_AMT_JUNE       20000 non-null  float64\n",
      " 16  PAY_AMT_MARCH      20000 non-null  float64\n",
      " 17  PAY_AMT_MAY        20000 non-null  float64\n",
      " 18  PAY_APRIL          20000 non-null  float64\n",
      " 19  PAY_FEBRUARY       20000 non-null  float64\n",
      " 20  PAY_JANUARY        20000 non-null  float64\n",
      " 21  PAY_JUNE           20000 non-null  float64\n",
      " 22  PAY_MARCH          20000 non-null  float64\n",
      " 23  PAY_MAY            20000 non-null  float64\n",
      " 24  SEX                20000 non-null  int64  \n",
      "dtypes: float64(19), int64(6)\n",
      "memory usage: 4.0 MB\n"
     ]
    }
   ],
   "source": [
    "#View training set\n",
    "train.info()"
   ]
  },
  {
   "cell_type": "code",
   "execution_count": 36,
   "id": "05fe3927-1e68-4691-a73c-02e6c8120d47",
   "metadata": {
    "tags": []
   },
   "outputs": [
    {
     "name": "stdout",
     "output_type": "stream",
     "text": [
      "<class 'pandas.core.frame.DataFrame'>\n",
      "RangeIndex: 9000 entries, 0 to 8999\n",
      "Data columns (total 25 columns):\n",
      " #   Column             Non-Null Count  Dtype  \n",
      "---  ------             --------------  -----  \n",
      " 0   AGE                9000 non-null   int64  \n",
      " 1   BILL_AMT_APRIL     9000 non-null   float64\n",
      " 2   BILL_AMT_FEBRUARY  9000 non-null   float64\n",
      " 3   BILL_AMT_JANUARY   9000 non-null   float64\n",
      " 4   BILL_AMT_JUNE      9000 non-null   float64\n",
      " 5   BILL_AMT_MARCH     9000 non-null   float64\n",
      " 6   BILL_AMT_MAY       9000 non-null   float64\n",
      " 7   DEFAULT_JULY       9000 non-null   int64  \n",
      " 8   EDUCATION          9000 non-null   int64  \n",
      " 9   ID                 9000 non-null   int64  \n",
      " 10  LIMIT_BAL          9000 non-null   float64\n",
      " 11  MARRIAGE           9000 non-null   int64  \n",
      " 12  PAY_AMT_APRIL      9000 non-null   float64\n",
      " 13  PAY_AMT_FEBRUARY   9000 non-null   float64\n",
      " 14  PAY_AMT_JANUARY    9000 non-null   float64\n",
      " 15  PAY_AMT_JUNE       9000 non-null   float64\n",
      " 16  PAY_AMT_MARCH      9000 non-null   float64\n",
      " 17  PAY_AMT_MAY        9000 non-null   float64\n",
      " 18  PAY_APRIL          9000 non-null   int64  \n",
      " 19  PAY_FEBRUARY       9000 non-null   int64  \n",
      " 20  PAY_JANUARY        9000 non-null   int64  \n",
      " 21  PAY_JUNE           9000 non-null   int64  \n",
      " 22  PAY_MARCH          9000 non-null   int64  \n",
      " 23  PAY_MAY            9000 non-null   int64  \n",
      " 24  SEX                9000 non-null   int64  \n",
      "dtypes: float64(13), int64(12)\n",
      "memory usage: 1.7 MB\n"
     ]
    }
   ],
   "source": [
    "#View test set\n",
    "test.info()"
   ]
  },
  {
   "cell_type": "code",
   "execution_count": 37,
   "id": "8572f2c5-039f-4e80-bc28-839861276e57",
   "metadata": {},
   "outputs": [
    {
     "data": {
      "text/plain": [
       "['PAY_APRIL',\n",
       " 'PAY_FEBRUARY',\n",
       " 'PAY_JANUARY',\n",
       " 'PAY_JUNE',\n",
       " 'PAY_MARCH',\n",
       " 'PAY_MAY']"
      ]
     },
     "execution_count": 37,
     "metadata": {},
     "output_type": "execute_result"
    }
   ],
   "source": [
    "list(train.iloc[:,18:24])\n"
   ]
  },
  {
   "cell_type": "markdown",
   "id": "24390ed7-c289-4a8a-9599-d8b4e3a06d48",
   "metadata": {},
   "source": [
    "<a id='3.1.2'></a>\n",
    "### Feature Engineer Training Set"
   ]
  },
  {
   "cell_type": "code",
   "execution_count": 38,
   "id": "ae8ea853-8cb2-45ff-9ea4-75cb821aa6fb",
   "metadata": {},
   "outputs": [],
   "source": [
    "# Define pay columns to use in feature engineering\n",
    "pay_cols = ['PAY_APRIL',\n",
    " 'PAY_FEBRUARY',\n",
    " 'PAY_JANUARY',\n",
    " 'PAY_JUNE',\n",
    " 'PAY_MARCH',\n",
    " 'PAY_MAY']"
   ]
  },
  {
   "cell_type": "code",
   "execution_count": 39,
   "id": "39c17479-a8c9-47dd-8e44-070842886881",
   "metadata": {},
   "outputs": [],
   "source": [
    "#Bin unknown marital status 'others' with 'unknown'\n",
    "train.loc[train[\"MARRIAGE\"] == 0, \"MARRIAGE\"] = 3\n",
    "\n",
    "#Recode sex\n",
    "train.loc[train[\"SEX\"] == 2, \"SEX\"] = 0\n",
    "\n",
    "#Bin education 0, 4, 5, and 6\n",
    "train.loc[train[\"EDUCATION\"] == 0, \"EDUCATION\"] = 4\n",
    "train.loc[train[\"EDUCATION\"] == 5, \"EDUCATION\"] = 4\n",
    "train.loc[train[\"EDUCATION\"] == 6, \"EDUCATION\"] = 4\n",
    "\n",
    "#Total pay_amt\n",
    "train[\"total_pay_AMT\"] = train[\"PAY_AMT_APRIL\"] + train[\"PAY_AMT_FEBRUARY\"] + train[\"PAY_AMT_JANUARY\"] + train[\"PAY_AMT_JUNE\"] + train[\"PAY_AMT_MARCH\"] + train[\"PAY_AMT_MAY\"]\n",
    "\n",
    "#Total pay\n",
    "train[\"total_pay\"] = train[\"PAY_APRIL\"] + train[\"PAY_FEBRUARY\"] + train[\"PAY_JANUARY\"] + train[\"PAY_JUNE\"] + train[\"PAY_MARCH\"] + train[\"PAY_MAY\"]\n",
    "\n",
    "#Total bill_amt\n",
    "train[\"total_bill_AMT\"] = train[\"BILL_AMT_APRIL\"] + train[\"BILL_AMT_FEBRUARY\"] + train[\"BILL_AMT_JANUARY\"] + train[\"BILL_AMT_JUNE\"] + train[\"BILL_AMT_MARCH\"] + train[\"BILL_AMT_MAY\"]\n",
    "\n",
    "#June pay\n",
    "train[\"june_pay\"] = np.where(train[\"PAY_JUNE\"] < 0, 0, 1)\n",
    "\n",
    "#Bill_amt to Limit_bal ratio\n",
    "train[\"bill_to_limit_ratio_june\"] = train[\"BILL_AMT_JUNE\"] / train[\"LIMIT_BAL\"]\n",
    "\n",
    "#Pay_amt to Limit_bal ratio\n",
    "train[\"pay_to_limit_ratio_june\"] = train[\"PAY_AMT_JUNE\"] / train[\"LIMIT_BAL\"]\n",
    "\n",
    "#Max pay\n",
    "train['max_pay'] = train[[\"PAY_APRIL\", \"PAY_FEBRUARY\", \"PAY_JANUARY\", \"PAY_JUNE\", \"PAY_MARCH\", \"PAY_MAY\"]].max(axis=1)\n",
    "\n",
    "#Min pay\n",
    "train['min_pay'] = train[[\"PAY_APRIL\", \"PAY_FEBRUARY\", \"PAY_JANUARY\", \"PAY_JUNE\", \"PAY_MARCH\", \"PAY_MAY\"]].min(axis=1)\n",
    "\n",
    "#pay to bill ratio\n",
    "train[\"pay_to_bill_ratio_june\"] = train[\"PAY_AMT_JUNE\"] / train[\"BILL_AMT_JUNE\"]\n",
    "train[\"pay_to_bill_ratio_june\"].fillna(value=0,inplace=True)\n",
    "\n",
    "#total_late_months\n",
    "train['total_late_payments'] = train.loc[:, pay_cols].apply(lambda x: (x >= 1).sum(), axis=1)\n",
    "                                     \n",
    "#Mean bill_amt\n",
    "train[\"mean_bill_AMT\"] = train[[\"BILL_AMT_APRIL\", \"BILL_AMT_FEBRUARY\", \"BILL_AMT_JANUARY\", \"BILL_AMT_JUNE\", \"BILL_AMT_MARCH\", \"BILL_AMT_MAY\"]].mean(axis=1)\n",
    "\n",
    "#Mean bill_amt\n",
    "train[\"mean_pay_AMT\"] = train[[\"PAY_AMT_APRIL\", \"PAY_AMT_FEBRUARY\", \"PAY_AMT_JANUARY\", \"PAY_AMT_JUNE\", \"PAY_AMT_MARCH\", \"PAY_AMT_MAY\"]].mean(axis=1)\n",
    "\n",
    "#Bill amt minus pay amt june\n",
    "train[\"bill_pay_amt_diff_june\"] = train[\"BILL_AMT_JUNE\"] - train[\"PAY_AMT_JUNE\"]\n",
    "\n",
    "# Replace infinite values with 0\n",
    "train.replace([np.inf, -np.inf], 0, inplace=True)"
   ]
  },
  {
   "cell_type": "markdown",
   "id": "1da3623f-a0fe-4655-a32d-0ced2fe6702a",
   "metadata": {},
   "source": [
    "<a id='3.1.3'></a>\n",
    "### Feature Engineer Test Set"
   ]
  },
  {
   "cell_type": "code",
   "execution_count": 40,
   "id": "6ea2cb38-ab61-426d-84ca-ced35adeb94c",
   "metadata": {},
   "outputs": [],
   "source": [
    "#Bin unknown marital status & 'others'\n",
    "test.loc[test[\"MARRIAGE\"] == 0, \"MARRIAGE\"] = 3\n",
    "\n",
    "#Recode sex\n",
    "test.loc[test[\"SEX\"] == 2, \"SEX\"] = 0\n",
    "\n",
    "#Bin education 0, 4, 5, and 6\n",
    "test.loc[test[\"EDUCATION\"] == 0, \"EDUCATION\"] = 4\n",
    "test.loc[test[\"EDUCATION\"] == 5, \"EDUCATION\"] = 4\n",
    "test.loc[test[\"EDUCATION\"] == 6, \"EDUCATION\"] = 4\n",
    "\n",
    "#Total pay_amt\n",
    "test[\"total_pay_AMT\"] = test[\"PAY_AMT_APRIL\"] + test[\"PAY_AMT_FEBRUARY\"] + test[\"PAY_AMT_JANUARY\"] + test[\"PAY_AMT_JUNE\"] + test[\"PAY_AMT_MARCH\"] + test[\"PAY_AMT_MAY\"]\n",
    "\n",
    "#Total pay\n",
    "test[\"total_pay\"] = test[\"PAY_APRIL\"] + test[\"PAY_FEBRUARY\"] + test[\"PAY_JANUARY\"] + test[\"PAY_JUNE\"] + test[\"PAY_MARCH\"] + test[\"PAY_MAY\"]\n",
    "\n",
    "#Total bill_amt\n",
    "test[\"total_bill_AMT\"] = test[\"BILL_AMT_APRIL\"] + test[\"BILL_AMT_FEBRUARY\"] + test[\"BILL_AMT_JANUARY\"] + test[\"BILL_AMT_JUNE\"] + test[\"BILL_AMT_MARCH\"] + test[\"BILL_AMT_MAY\"]\n",
    "\n",
    "#June pay\n",
    "test[\"june_pay\"] = np.where(test[\"PAY_JUNE\"] < 0, 0, 1)\n",
    "\n",
    "#Bill_amt to Limit_bal ratio\n",
    "test[\"bill_to_limit_ratio_june\"] = test[\"BILL_AMT_JUNE\"] / test[\"LIMIT_BAL\"]\n",
    "\n",
    "#Pay_amt to Limit_bal ratio\n",
    "test[\"pay_to_limit_ratio_june\"] = test[\"PAY_AMT_JUNE\"] / test[\"LIMIT_BAL\"]\n",
    "\n",
    "#Max pay\n",
    "test['max_pay'] = test[[\"PAY_APRIL\", \"PAY_FEBRUARY\", \"PAY_JANUARY\", \"PAY_JUNE\", \"PAY_MARCH\", \"PAY_MAY\"]].max(axis=1)\n",
    "\n",
    "#Min pay\n",
    "test['min_pay'] = test[[\"PAY_APRIL\", \"PAY_FEBRUARY\", \"PAY_JANUARY\", \"PAY_JUNE\", \"PAY_MARCH\", \"PAY_MAY\"]].min(axis=1)\n",
    "\n",
    "#pay to bill ratio\n",
    "test[\"pay_to_bill_ratio_june\"] = test[\"PAY_AMT_JUNE\"] / test[\"BILL_AMT_JUNE\"]\n",
    "test[\"pay_to_bill_ratio_june\"].fillna(value=0,inplace=True)\n",
    "\n",
    "#total_late_months\n",
    "test['total_late_payments'] = test.loc[:, pay_cols].apply(lambda x: (x >= 1).sum(), axis=1)\n",
    "                                     \n",
    "#Mean bill_amt\n",
    "test[\"mean_bill_AMT\"] = test[[\"BILL_AMT_APRIL\", \"BILL_AMT_FEBRUARY\", \"BILL_AMT_JANUARY\", \"BILL_AMT_JUNE\", \"BILL_AMT_MARCH\", \"BILL_AMT_MAY\"]].mean(axis=1)\n",
    "\n",
    "#Mean bill_amt\n",
    "test[\"mean_pay_AMT\"] = test[[\"PAY_AMT_APRIL\", \"PAY_AMT_FEBRUARY\", \"PAY_AMT_JANUARY\", \"PAY_AMT_JUNE\", \"PAY_AMT_MARCH\", \"PAY_AMT_MAY\"]].mean(axis=1)\n",
    "\n",
    "#Bill amt minus pay amt june\n",
    "test[\"bill_pay_amt_diff_june\"] = test[\"BILL_AMT_JUNE\"] - test[\"PAY_AMT_JUNE\"]\n",
    "\n",
    "# Replace infinite values with 0\n",
    "test.replace([np.inf, -np.inf], 0, inplace=True)\n"
   ]
  },
  {
   "cell_type": "markdown",
   "id": "a6da2bbd-5aad-4456-b453-e61690bd18b5",
   "metadata": {},
   "source": [
    "<a id='3.1.4'></a>\n",
    "### Define Column Types"
   ]
  },
  {
   "cell_type": "code",
   "execution_count": 41,
   "id": "68acd810-1f54-44ce-a408-0b621f4aee36",
   "metadata": {},
   "outputs": [],
   "source": [
    "#Determine types of columns to simplify later scaling of only numerical columns\n",
    "categorical_cols = [\n",
    "    \"EDUCATION\",\n",
    "    \"MARRIAGE\",\n",
    "    \"SEX\",\n",
    "    #'IS_OUTLIER'\n",
    "]\n",
    "\n",
    "numerical_cols = [\n",
    "    'AGE', \n",
    "    'BILL_AMT_APRIL', \n",
    "    'BILL_AMT_FEBRUARY', \n",
    "    'BILL_AMT_JANUARY', \n",
    "    'BILL_AMT_JUNE',\n",
    "    'BILL_AMT_MARCH', \n",
    "    'BILL_AMT_MAY', \n",
    "    'LIMIT_BAL',\n",
    "    'PAY_AMT_APRIL', \n",
    "    'PAY_AMT_FEBRUARY', \n",
    "    'PAY_AMT_JANUARY',\n",
    "    'PAY_AMT_JUNE', \n",
    "    'PAY_AMT_MARCH', \n",
    "    'PAY_AMT_MAY', \n",
    "    'PAY_APRIL', \n",
    "    'PAY_FEBRUARY',\n",
    "    'PAY_JANUARY', \n",
    "    'PAY_JUNE', \n",
    "    'PAY_MARCH', \n",
    "    'PAY_MAY',\n",
    "    'total_pay_AMT',\n",
    "    'total_pay',\n",
    "    'total_bill_AMT',\n",
    "    'june_pay',\n",
    "    'bill_to_limit_ratio_june',\n",
    "    'pay_to_limit_ratio_june',\n",
    "    'max_pay',\n",
    "    'min_pay',\n",
    "    'pay_to_bill_ratio_june',\n",
    "    'total_late_payments',\n",
    "    'mean_bill_AMT',\n",
    "    'mean_pay_AMT',\n",
    "    'bill_pay_amt_diff_june'\n",
    "]\n",
    "\n",
    "other_cols = [\n",
    "    'DEFAULT_JULY', #target\n",
    "    'ID' #IDs\n",
    "]"
   ]
  },
  {
   "cell_type": "code",
   "execution_count": 42,
   "id": "512f4515-c1b5-48e3-9f3a-8f975309c139",
   "metadata": {},
   "outputs": [],
   "source": [
    "training_cols = [*categorical_cols, *numerical_cols, *other_cols]\n",
    "x_cols = [*categorical_cols, *numerical_cols]"
   ]
  },
  {
   "cell_type": "markdown",
   "id": "4824e2e2-3b4a-4a48-87e2-8d1f8f0cf841",
   "metadata": {},
   "source": [
    "<a id='3.1.5'></a>\n",
    "### Extreme Value Removal"
   ]
  },
  {
   "cell_type": "code",
   "execution_count": 43,
   "id": "48d08fbc-dd0a-4c0c-832a-ea91a548f4f0",
   "metadata": {},
   "outputs": [],
   "source": [
    "# # Define outliers\n",
    "# outliers = (np.abs(train.loc[:, numerical_cols] - train.loc[:, numerical_cols].mean()) > (3 * train.loc[:, numerical_cols].std())).any(axis=1)\n",
    "\n",
    "# # Remove the rows that contain outliers\n",
    "# train = train[~outliers]"
   ]
  },
  {
   "cell_type": "markdown",
   "id": "3cd60304-8ac4-45a8-bafe-a9591d65f774",
   "metadata": {},
   "source": [
    "All models were attempted with and without extreme valiues removed. The code above has been commented out because better model performance was obtained without removal of the values."
   ]
  },
  {
   "cell_type": "markdown",
   "id": "237b940f-b736-44db-920c-5fca47a9f377",
   "metadata": {},
   "source": [
    "<a id='3.1.6'></a>\n",
    "### Create X_train & y_train"
   ]
  },
  {
   "cell_type": "code",
   "execution_count": 44,
   "id": "dd6938ef-4003-43d9-8713-26d90b7813b1",
   "metadata": {},
   "outputs": [],
   "source": [
    "train = train.reindex(sorted(train.columns), axis=1)\n",
    "\n",
    "#Non scaled x train\n",
    "X_train = train[x_cols]\n",
    "X_train = train.reindex(sorted(X_train.columns), axis=1)\n",
    "\n",
    "#y_train\n",
    "y_train = train[\"DEFAULT_JULY\"]"
   ]
  },
  {
   "cell_type": "markdown",
   "id": "8fd408c1-f2be-4a8f-8110-7d43d83ff308",
   "metadata": {},
   "source": [
    "<a id='3.1.7'></a>\n",
    "### Create X_test & y_test"
   ]
  },
  {
   "cell_type": "code",
   "execution_count": 45,
   "id": "143b5d66-18e4-4ed2-8c18-cd93021e3a42",
   "metadata": {},
   "outputs": [],
   "source": [
    "test = test.reindex(sorted(test.columns), axis=1)\n",
    "\n",
    "#Non scaled x train\n",
    "X_test = test[x_cols]\n",
    "X_test = X_test.reindex(sorted(X_test.columns), axis=1)\n",
    "\n",
    "#y_train\n",
    "y_test = test[\"DEFAULT_JULY\"]"
   ]
  },
  {
   "cell_type": "markdown",
   "id": "67ef0df1-b439-4e8a-8259-dd0bec864bd3",
   "metadata": {},
   "source": [
    "<a id='3.1.8'></a>\n",
    "### Modelling: Logistic Regression & LDA"
   ]
  },
  {
   "cell_type": "code",
   "execution_count": 46,
   "id": "24c8d707-817d-4c2b-95b4-29c517a423a1",
   "metadata": {},
   "outputs": [],
   "source": [
    "from sklearn.compose import ColumnTransformer\n",
    "from sklearn.preprocessing import OneHotEncoder\n",
    "from sklearn.preprocessing import StandardScaler\n",
    "from sklearn.decomposition import PCA\n",
    "\n",
    "# Create column tranformer pre-processor\n",
    "preprocessor = ColumnTransformer(\n",
    "    transformers=[\n",
    "        #OHE cat cols\n",
    "        (\n",
    "            \"OHE_cat_cols\", \n",
    "            OneHotEncoder(), \n",
    "            categorical_cols\n",
    "        ),\n",
    "        #Scale num cols\n",
    "        (\n",
    "            \"numeric_columns_to_scale\", \n",
    "            StandardScaler(), \n",
    "            numerical_cols\n",
    "        )\n",
    "        # #Apply PCA to numerical cols\n",
    "        # (\n",
    "        #     \"numeric_columns_PCA\", \n",
    "        #     PCA(), \n",
    "        #     numerical_cols\n",
    "        # )\n",
    "    ],\n",
    "    remainder=\"passthrough\"\n",
    ")"
   ]
  },
  {
   "cell_type": "code",
   "execution_count": 57,
   "id": "e44ab934-8a01-46f8-a5e6-276cb6e099ed",
   "metadata": {},
   "outputs": [
    {
     "name": "stdout",
     "output_type": "stream",
     "text": [
      "Train ROC score:  0.7683218855825139\n",
      "Train F1 score:  0.437996334758705\n",
      "Train Precision score:  0.6738721804511278\n",
      "Train Recall score:  0.3244343891402715\n",
      "Train Accuracy score:  0.816\n",
      "Test ROC score:  0.7761119787334145\n",
      "Test F1 score:  0.43642495784148394\n",
      "Test Precision score:  0.6670103092783505\n",
      "Test Recall score:  0.3243107769423559\n",
      "Test Accuracy score:  0.3243107769423559\n"
     ]
    },
    {
     "name": "stderr",
     "output_type": "stream",
     "text": [
      "/Users/beatriz/opt/anaconda3/lib/python3.9/site-packages/sklearn/linear_model/_logistic.py:458: ConvergenceWarning: lbfgs failed to converge (status=1):\n",
      "STOP: TOTAL NO. of ITERATIONS REACHED LIMIT.\n",
      "\n",
      "Increase the number of iterations (max_iter) or scale the data as shown in:\n",
      "    https://scikit-learn.org/stable/modules/preprocessing.html\n",
      "Please also refer to the documentation for alternative solver options:\n",
      "    https://scikit-learn.org/stable/modules/linear_model.html#logistic-regression\n",
      "  n_iter_i = _check_optimize_result(\n"
     ]
    }
   ],
   "source": [
    "from sklearn.pipeline import Pipeline\n",
    "from sklearn.linear_model import LogisticRegression\n",
    "from sklearn.decomposition import PCA\n",
    "from sklearn.discriminant_analysis import LinearDiscriminantAnalysis\n",
    "from sklearn.metrics import roc_auc_score, f1_score, precision_score, recall_score, accuracy_score\n",
    "\n",
    "#Create pipeline\n",
    "logit_pipe = Pipeline(\n",
    "     # Pre-processor to OHE encode cat cols and scale num cols\n",
    "    ((\"preprocessor\", preprocessor), \n",
    "     \n",
    "     # Logistic regression\n",
    "     (\"logreg\", LogisticRegression()),\n",
    "     \n",
    "     # # LDA\n",
    "     # (\"LDA\", LinearDiscriminantAnalysis())\n",
    "    )\n",
    ")\n",
    "\n",
    "logit_pipe.fit(X_train, y_train)\n",
    "\n",
    "# Predict probabilities\n",
    "y_pred_train_prob = logit_pipe.predict_proba(X_train)[:, 1]\n",
    "y_pred_train = logit_pipe.predict(X_train)\n",
    "\n",
    "y_pred_test_prob = logit_pipe.predict_proba(X_test)[:, 1]\n",
    "y_pred_test = logit_pipe.predict(X_test)\n",
    "\n",
    "\n",
    "# Calculate model scores using various metrics\n",
    "print(\"Train ROC score: \", roc_auc_score(y_train, y_pred_train_prob))\n",
    "print(\"Train F1 score: \", f1_score(y_train, y_pred_train))\n",
    "print(\"Train Precision score: \", precision_score(y_train, y_pred_train))\n",
    "print(\"Train Recall score: \", recall_score(y_train, y_pred_train))\n",
    "print(\"Train Accuracy score: \", accuracy_score(y_train, y_pred_train))\n",
    "\n",
    "\n",
    "print(\"Test ROC score: \", roc_auc_score(y_test, y_pred_test_prob))\n",
    "print(\"Test F1 score: \", f1_score(y_test, y_pred_test))\n",
    "print(\"Test Precision score: \", precision_score(y_test, y_pred_test))\n",
    "print(\"Test Recall score: \", recall_score(y_test, y_pred_test))\n",
    "print(\"Test Accuracy score: \", recall_score(y_test, y_pred_test))"
   ]
  },
  {
   "cell_type": "markdown",
   "id": "c3d0afc5-9b72-4222-9a72-b6d2763b9caf",
   "metadata": {},
   "source": [
    "<a id='3.1.9'></a>\n",
    "### Modelling: Random Forest"
   ]
  },
  {
   "cell_type": "code",
   "execution_count": 59,
   "id": "b5a86c27-fec0-4dce-9954-5fb495d30475",
   "metadata": {},
   "outputs": [],
   "source": [
    "from sklearn.ensemble import RandomForestClassifier, BaggingClassifier\n",
    "from sklearn.model_selection import GridSearchCV\n",
    "\n",
    "# Instantiate model\n",
    "rfc = RandomForestClassifier()\n",
    "\n",
    "# Define the parameter distribution to sample from\n",
    "params = {\n",
    "    'n_estimators': [10, 20, 30],\n",
    "    'max_leaf_nodes': [75,100,125,150]\n",
    "    'min_samples_leaf': [1,2,3],\n",
    "    'ccp_alpha': [1, 0.01, 0.001, 0.0001]\n",
    "}\n",
    "\n",
    "# define the randomized search cross-validation\n",
    "grid_search = GridSearchCV(\n",
    "    estimator=rfc,\n",
    "    param_grid=params,\n",
    "    cv=5,\n",
    "    scoring='roc_auc'\n",
    ")\n",
    "\n",
    "# fit the randomized search cross-validation to the data\n",
    "grid_search.fit(X_train, y_train)\n",
    "\n",
    "# print the best parameters and best training score\n",
    "print('Best parameters:', grid_search.best_params_)\n",
    "\n",
    "#print test score\n",
    "print(\"Test score: \", round(grid_search.score(X_test, y_test),3))"
   ]
  },
  {
   "cell_type": "code",
   "execution_count": 60,
   "id": "4d443561-32eb-4d97-b6c6-c6d3a47cb559",
   "metadata": {},
   "outputs": [
    {
     "name": "stdout",
     "output_type": "stream",
     "text": [
      "Train ROC score:  0.8046786473550613\n",
      "Train F1 score:  0.5541332695298481\n",
      "Train Precision score:  0.587966488956588\n",
      "Train Recall score:  0.5239819004524887\n",
      "Train Accuracy score:  0.81365\n",
      "Test ROC score:  0.7801689448460551\n",
      "Test F1 score:  0.5309360126916975\n",
      "Test Precision score:  0.5618354784555121\n",
      "Test Recall score:  0.5032581453634085\n",
      "Test Accuracy score:  0.5032581453634085\n"
     ]
    }
   ],
   "source": [
    "from imblearn.pipeline import make_pipeline\n",
    "from imblearn.over_sampling import SMOTE\n",
    "\n",
    "rf_pipe = make_pipeline(\n",
    "    \n",
    "    #SMOTE resample training set\n",
    "    SMOTE(\n",
    "        random_state=42,\n",
    "        sampling_strategy='auto', \n",
    "        k_neighbors=3\n",
    "    ), \n",
    "    \n",
    "    # # Apply PCA\n",
    "    # PCA(\n",
    "    #     n_components=15\n",
    "    # ),\n",
    "    \n",
    "    #RF model with best params from grid search\n",
    "    RandomForestClassifier(\n",
    "        random_state=42,\n",
    "        max_leaf_nodes=100,\n",
    "        n_estimators=30,\n",
    "        min_samples_leaf=1\n",
    "    ))\n",
    "\n",
    "rf_pipe.fit(X_train, y_train)\n",
    "\n",
    "# Predict probabilities\n",
    "y_pred_train_prob = rf_pipe.predict_proba(X_train)[:, 1]\n",
    "y_pred_train = rf_pipe.predict(X_train)\n",
    "\n",
    "y_pred_test_prob = rf_pipe.predict_proba(X_test)[:, 1]\n",
    "y_pred_test = rf_pipe.predict(X_test)\n",
    "\n",
    "\n",
    "# Calculate model scores using various metrics\n",
    "print(\"Train ROC score: \", roc_auc_score(y_train, y_pred_train_prob))\n",
    "print(\"Train F1 score: \", f1_score(y_train, y_pred_train))\n",
    "print(\"Train Precision score: \", precision_score(y_train, y_pred_train))\n",
    "print(\"Train Recall score: \", recall_score(y_train, y_pred_train))\n",
    "print(\"Train Accuracy score: \", accuracy_score(y_train, y_pred_train))\n",
    "\n",
    "\n",
    "print(\"Test ROC score: \", roc_auc_score(y_test, y_pred_test_prob))\n",
    "print(\"Test F1 score: \", f1_score(y_test, y_pred_test))\n",
    "print(\"Test Precision score: \", precision_score(y_test, y_pred_test))\n",
    "print(\"Test Recall score: \", recall_score(y_test, y_pred_test))\n",
    "print(\"Test Accuracy score: \", recall_score(y_test, y_pred_test))"
   ]
  },
  {
   "cell_type": "code",
   "execution_count": 61,
   "id": "adf0b538-dada-4f3f-ac24-7c7b207fa185",
   "metadata": {
    "tags": []
   },
   "outputs": [
    {
     "data": {
      "text/html": [
       "<div>\n",
       "<style scoped>\n",
       "    .dataframe tbody tr th:only-of-type {\n",
       "        vertical-align: middle;\n",
       "    }\n",
       "\n",
       "    .dataframe tbody tr th {\n",
       "        vertical-align: top;\n",
       "    }\n",
       "\n",
       "    .dataframe thead th {\n",
       "        text-align: right;\n",
       "    }\n",
       "</style>\n",
       "<table border=\"1\" class=\"dataframe\">\n",
       "  <thead>\n",
       "    <tr style=\"text-align: right;\">\n",
       "      <th></th>\n",
       "      <th>feature</th>\n",
       "      <th>importance</th>\n",
       "    </tr>\n",
       "  </thead>\n",
       "  <tbody>\n",
       "    <tr>\n",
       "      <th>0</th>\n",
       "      <td>max_pay</td>\n",
       "      <td>0.212720</td>\n",
       "    </tr>\n",
       "    <tr>\n",
       "      <th>1</th>\n",
       "      <td>PAY_JUNE</td>\n",
       "      <td>0.155656</td>\n",
       "    </tr>\n",
       "    <tr>\n",
       "      <th>2</th>\n",
       "      <td>total_pay</td>\n",
       "      <td>0.153432</td>\n",
       "    </tr>\n",
       "    <tr>\n",
       "      <th>3</th>\n",
       "      <td>PAY_MAY</td>\n",
       "      <td>0.067122</td>\n",
       "    </tr>\n",
       "    <tr>\n",
       "      <th>4</th>\n",
       "      <td>total_late_payments</td>\n",
       "      <td>0.048973</td>\n",
       "    </tr>\n",
       "    <tr>\n",
       "      <th>5</th>\n",
       "      <td>PAY_JANUARY</td>\n",
       "      <td>0.046264</td>\n",
       "    </tr>\n",
       "    <tr>\n",
       "      <th>6</th>\n",
       "      <td>PAY_APRIL</td>\n",
       "      <td>0.031613</td>\n",
       "    </tr>\n",
       "    <tr>\n",
       "      <th>7</th>\n",
       "      <td>MARRIAGE</td>\n",
       "      <td>0.024383</td>\n",
       "    </tr>\n",
       "    <tr>\n",
       "      <th>8</th>\n",
       "      <td>PAY_FEBRUARY</td>\n",
       "      <td>0.022882</td>\n",
       "    </tr>\n",
       "    <tr>\n",
       "      <th>9</th>\n",
       "      <td>BILL_AMT_JUNE</td>\n",
       "      <td>0.021951</td>\n",
       "    </tr>\n",
       "    <tr>\n",
       "      <th>10</th>\n",
       "      <td>min_pay</td>\n",
       "      <td>0.020175</td>\n",
       "    </tr>\n",
       "    <tr>\n",
       "      <th>11</th>\n",
       "      <td>total_bill_AMT</td>\n",
       "      <td>0.017250</td>\n",
       "    </tr>\n",
       "    <tr>\n",
       "      <th>12</th>\n",
       "      <td>PAY_MARCH</td>\n",
       "      <td>0.016436</td>\n",
       "    </tr>\n",
       "    <tr>\n",
       "      <th>13</th>\n",
       "      <td>bill_to_limit_ratio_june</td>\n",
       "      <td>0.016245</td>\n",
       "    </tr>\n",
       "    <tr>\n",
       "      <th>14</th>\n",
       "      <td>total_pay_AMT</td>\n",
       "      <td>0.015125</td>\n",
       "    </tr>\n",
       "    <tr>\n",
       "      <th>15</th>\n",
       "      <td>mean_bill_AMT</td>\n",
       "      <td>0.014912</td>\n",
       "    </tr>\n",
       "    <tr>\n",
       "      <th>16</th>\n",
       "      <td>mean_pay_AMT</td>\n",
       "      <td>0.013718</td>\n",
       "    </tr>\n",
       "    <tr>\n",
       "      <th>17</th>\n",
       "      <td>LIMIT_BAL</td>\n",
       "      <td>0.010687</td>\n",
       "    </tr>\n",
       "    <tr>\n",
       "      <th>18</th>\n",
       "      <td>PAY_AMT_JUNE</td>\n",
       "      <td>0.009568</td>\n",
       "    </tr>\n",
       "    <tr>\n",
       "      <th>19</th>\n",
       "      <td>BILL_AMT_FEBRUARY</td>\n",
       "      <td>0.009562</td>\n",
       "    </tr>\n",
       "    <tr>\n",
       "      <th>20</th>\n",
       "      <td>bill_pay_amt_diff_june</td>\n",
       "      <td>0.008000</td>\n",
       "    </tr>\n",
       "    <tr>\n",
       "      <th>21</th>\n",
       "      <td>pay_to_limit_ratio_june</td>\n",
       "      <td>0.006786</td>\n",
       "    </tr>\n",
       "    <tr>\n",
       "      <th>22</th>\n",
       "      <td>BILL_AMT_MAY</td>\n",
       "      <td>0.006417</td>\n",
       "    </tr>\n",
       "    <tr>\n",
       "      <th>23</th>\n",
       "      <td>PAY_AMT_MARCH</td>\n",
       "      <td>0.006177</td>\n",
       "    </tr>\n",
       "    <tr>\n",
       "      <th>24</th>\n",
       "      <td>EDUCATION</td>\n",
       "      <td>0.005625</td>\n",
       "    </tr>\n",
       "    <tr>\n",
       "      <th>25</th>\n",
       "      <td>pay_to_bill_ratio_june</td>\n",
       "      <td>0.005518</td>\n",
       "    </tr>\n",
       "    <tr>\n",
       "      <th>26</th>\n",
       "      <td>PAY_AMT_MAY</td>\n",
       "      <td>0.005182</td>\n",
       "    </tr>\n",
       "    <tr>\n",
       "      <th>27</th>\n",
       "      <td>june_pay</td>\n",
       "      <td>0.004362</td>\n",
       "    </tr>\n",
       "    <tr>\n",
       "      <th>28</th>\n",
       "      <td>PAY_AMT_APRIL</td>\n",
       "      <td>0.004250</td>\n",
       "    </tr>\n",
       "    <tr>\n",
       "      <th>29</th>\n",
       "      <td>PAY_AMT_FEBRUARY</td>\n",
       "      <td>0.004205</td>\n",
       "    </tr>\n",
       "    <tr>\n",
       "      <th>30</th>\n",
       "      <td>PAY_AMT_JANUARY</td>\n",
       "      <td>0.003070</td>\n",
       "    </tr>\n",
       "    <tr>\n",
       "      <th>31</th>\n",
       "      <td>BILL_AMT_APRIL</td>\n",
       "      <td>0.002790</td>\n",
       "    </tr>\n",
       "    <tr>\n",
       "      <th>32</th>\n",
       "      <td>SEX</td>\n",
       "      <td>0.002474</td>\n",
       "    </tr>\n",
       "    <tr>\n",
       "      <th>33</th>\n",
       "      <td>BILL_AMT_MARCH</td>\n",
       "      <td>0.002378</td>\n",
       "    </tr>\n",
       "    <tr>\n",
       "      <th>34</th>\n",
       "      <td>AGE</td>\n",
       "      <td>0.002074</td>\n",
       "    </tr>\n",
       "    <tr>\n",
       "      <th>35</th>\n",
       "      <td>BILL_AMT_JANUARY</td>\n",
       "      <td>0.002019</td>\n",
       "    </tr>\n",
       "  </tbody>\n",
       "</table>\n",
       "</div>"
      ],
      "text/plain": [
       "                     feature  importance\n",
       "0                    max_pay    0.212720\n",
       "1                   PAY_JUNE    0.155656\n",
       "2                  total_pay    0.153432\n",
       "3                    PAY_MAY    0.067122\n",
       "4        total_late_payments    0.048973\n",
       "5                PAY_JANUARY    0.046264\n",
       "6                  PAY_APRIL    0.031613\n",
       "7                   MARRIAGE    0.024383\n",
       "8               PAY_FEBRUARY    0.022882\n",
       "9              BILL_AMT_JUNE    0.021951\n",
       "10                   min_pay    0.020175\n",
       "11            total_bill_AMT    0.017250\n",
       "12                 PAY_MARCH    0.016436\n",
       "13  bill_to_limit_ratio_june    0.016245\n",
       "14             total_pay_AMT    0.015125\n",
       "15             mean_bill_AMT    0.014912\n",
       "16              mean_pay_AMT    0.013718\n",
       "17                 LIMIT_BAL    0.010687\n",
       "18              PAY_AMT_JUNE    0.009568\n",
       "19         BILL_AMT_FEBRUARY    0.009562\n",
       "20    bill_pay_amt_diff_june    0.008000\n",
       "21   pay_to_limit_ratio_june    0.006786\n",
       "22              BILL_AMT_MAY    0.006417\n",
       "23             PAY_AMT_MARCH    0.006177\n",
       "24                 EDUCATION    0.005625\n",
       "25    pay_to_bill_ratio_june    0.005518\n",
       "26               PAY_AMT_MAY    0.005182\n",
       "27                  june_pay    0.004362\n",
       "28             PAY_AMT_APRIL    0.004250\n",
       "29          PAY_AMT_FEBRUARY    0.004205\n",
       "30           PAY_AMT_JANUARY    0.003070\n",
       "31            BILL_AMT_APRIL    0.002790\n",
       "32                       SEX    0.002474\n",
       "33            BILL_AMT_MARCH    0.002378\n",
       "34                       AGE    0.002074\n",
       "35          BILL_AMT_JANUARY    0.002019"
      ]
     },
     "execution_count": 61,
     "metadata": {},
     "output_type": "execute_result"
    }
   ],
   "source": [
    "# Analyze feature importances\n",
    "importances = rf_pipe.named_steps['randomforestclassifier'].feature_importances_\n",
    "feature_names = X_train.columns\n",
    "df_importances = pd.DataFrame({'feature': feature_names, 'importance': importances})\n",
    "df_importances = df_importances.sort_values('importance', ascending=False)\n",
    "df_importances = df_importances.reset_index(drop=True)\n",
    "df_importances"
   ]
  },
  {
   "cell_type": "code",
   "execution_count": 62,
   "id": "485c1623-b15f-402c-8912-2acd9b64cc2e",
   "metadata": {},
   "outputs": [],
   "source": [
    "# # Remove features with lowest importance to see if model performance increases\n",
    "# cols_to_remove = list(df_importances.loc[df_importances[\"importance\"] < 0.004, \"feature\"])\n",
    "\n",
    "# # Run model with datasets below \n",
    "# X_train_reduced = X_train.drop(columns=cols_to_remove)\n",
    "# X_test_reduced = X_test.drop(columns=cols_to_remove)\n",
    "\n",
    "# # No improvement - all features kept"
   ]
  },
  {
   "cell_type": "markdown",
   "id": "3cbfdc2d-b499-4f19-be74-3a13b257ee0d",
   "metadata": {},
   "source": [
    "<a id='3.1.10'></a>\n",
    "\n",
    "### Modelling: Random Forest with Bagging"
   ]
  },
  {
   "cell_type": "code",
   "execution_count": 63,
   "id": "396232f6-e30f-45a5-bbab-b8956e446957",
   "metadata": {},
   "outputs": [
    {
     "name": "stdout",
     "output_type": "stream",
     "text": [
      "Train ROC score:  0.8089488060455741\n",
      "Train F1 score:  0.559302051402971\n",
      "Train Precision score:  0.5839487936976858\n",
      "Train Recall score:  0.5366515837104072\n",
      "Train Accuracy score:  0.8131\n",
      "Test ROC score:  0.7822907375505144\n",
      "Test F1 score:  0.5363825363825363\n",
      "Test Precision score:  0.5569347004856988\n",
      "Test Recall score:  0.5172932330827068\n",
      "Test Accuracy score:  0.5172932330827068\n"
     ]
    }
   ],
   "source": [
    "rf_bag_pipe = make_pipeline(\n",
    "    #SMOTE resample training set\n",
    "    SMOTE(\n",
    "        random_state=42,\n",
    "        sampling_strategy='auto', \n",
    "        k_neighbors=3\n",
    "    ), \n",
    "    #RF model with bagging with best params from grid search\n",
    "    BaggingClassifier(\n",
    "        estimator=RandomForestClassifier(\n",
    "            random_state=42,\n",
    "            max_leaf_nodes=100,\n",
    "            n_estimators=30,\n",
    "            min_samples_leaf=1\n",
    "        )\n",
    "    )\n",
    ")\n",
    "\n",
    "rf_bag_pipe.fit(X_train, y_train)\n",
    "\n",
    "# Predict probabilities\n",
    "y_pred_train_prob = rf_bag_pipe.predict_proba(X_train)[:, 1]\n",
    "y_pred_train = rf_bag_pipe.predict(X_train)\n",
    "\n",
    "y_pred_test_prob = rf_bag_pipe.predict_proba(X_test)[:, 1]\n",
    "y_pred_test = rf_bag_pipe.predict(X_test)\n",
    "\n",
    "# Calculate model scores using various metrics\n",
    "print(\"Train ROC score: \", roc_auc_score(y_train, y_pred_train_prob))\n",
    "print(\"Train F1 score: \", f1_score(y_train, y_pred_train))\n",
    "print(\"Train Precision score: \", precision_score(y_train, y_pred_train))\n",
    "print(\"Train Recall score: \", recall_score(y_train, y_pred_train))\n",
    "print(\"Train Accuracy score: \", accuracy_score(y_train, y_pred_train))\n",
    "\n",
    "print(\"Test ROC score: \", roc_auc_score(y_test, y_pred_test_prob))\n",
    "print(\"Test F1 score: \", f1_score(y_test, y_pred_test))\n",
    "print(\"Test Precision score: \", precision_score(y_test, y_pred_test))\n",
    "print(\"Test Recall score: \", recall_score(y_test, y_pred_test))\n",
    "print(\"Test Accuracy score: \", recall_score(y_test, y_pred_test))"
   ]
  },
  {
   "cell_type": "markdown",
   "id": "57bd57da-04a5-41e9-9010-2c643fbeb791",
   "metadata": {},
   "source": [
    "<a id='3.1.11'></a>\n",
    "### Modelling: XGBoost"
   ]
  },
  {
   "cell_type": "code",
   "execution_count": null,
   "id": "d50521a4-bda0-460e-8739-77f1a455ef01",
   "metadata": {},
   "outputs": [],
   "source": [
    "import xgboost as xgb\n",
    "\n",
    "# Define hyperparameters to search through\n",
    "params = {\n",
    "    'learning_rate': [0.01, 0.05, 0.1],\n",
    "    'n_estimators': [100, 500, 1000],\n",
    "    'max_depth': [3, 5, 7],\n",
    "    'subsample': [0.6, 0.8, 1.0],\n",
    "    'colsample_bytree': [0.6, 0.8, 1.0]\n",
    "}\n",
    "\n",
    "# CreaRandomForestClassifierodel with balanced data\n",
    "model = xgb.XGBClassifier()\n",
    "\n",
    "# Run RandomizedSearchCV\n",
    "grid_search = GridSearchCV(\n",
    "    model,\n",
    "    param_grid=params,\n",
    "    cv=5,\n",
    "    scoring='roc_auc'\n",
    ")\n",
    "\n",
    "# Fit the model to the data\n",
    "grid_search.fit(X_train, y_train)\n",
    "\n",
    "# print the best parameters and best training score\n",
    "print('Best parameters:', grid_search.best_params_)\n",
    "print('Best training score:', grid_search.best_score_)\n",
    "\n",
    "#print test score\n",
    "print(\"Test score: \", round(grid_search.score(X_test, y_test),3))"
   ]
  },
  {
   "cell_type": "code",
   "execution_count": 64,
   "id": "661571b8-9c53-4ae7-80e4-498adb35edef",
   "metadata": {},
   "outputs": [
    {
     "name": "stdout",
     "output_type": "stream",
     "text": [
      "Train ROC score:  0.8063720673911907\n",
      "Train F1 score:  0.537117903930131\n",
      "Train Precision score:  0.6212121212121212\n",
      "Train Recall score:  0.47307692307692306\n",
      "Train Accuracy score:  0.8198\n",
      "Test ROC score:  0.7778310515761209\n",
      "Test F1 score:  0.5135900339750848\n",
      "Test Precision score:  0.590110605074821\n",
      "Test Recall score:  0.4546365914786967\n",
      "Test Accuracy score:  0.4546365914786967\n"
     ]
    }
   ],
   "source": [
    "import xgboost as xgb\n",
    "\n",
    "xgboost_pipe = make_pipeline(\n",
    "    #SMOTE resample training set\n",
    "    SMOTE(\n",
    "        random_state=42,\n",
    "        sampling_strategy='auto', \n",
    "        k_neighbors=3\n",
    "    ), \n",
    "    #XGBoost model with best params from grid search\n",
    "    xgb.XGBClassifier(\n",
    "        colsample_bytree=0.8,\n",
    "        learning_rate=0.01, \n",
    "        max_depth=5,\n",
    "        n_estimators=500,\n",
    "        subsample=0.6\n",
    "    )\n",
    ")\n",
    "\n",
    "\n",
    "xgboost_pipe.fit(X_train, y_train)\n",
    "\n",
    "# Predict probabilities\n",
    "y_pred_train_prob = xgboost_pipe.predict_proba(X_train)[:, 1]\n",
    "y_pred_train = xgboost_pipe.predict(X_train)\n",
    "\n",
    "y_pred_test_prob = xgboost_pipe.predict_proba(X_test)[:, 1]\n",
    "y_pred_test = xgboost_pipe.predict(X_test)\n",
    "\n",
    "# Calculate model scores using various metrics\n",
    "print(\"Train ROC score: \", roc_auc_score(y_train, y_pred_train_prob))\n",
    "print(\"Train F1 score: \", f1_score(y_train, y_pred_train))\n",
    "print(\"Train Precision score: \", precision_score(y_train, y_pred_train))\n",
    "print(\"Train Recall score: \", recall_score(y_train, y_pred_train))\n",
    "print(\"Train Accuracy score: \", accuracy_score(y_train, y_pred_train))\n",
    "\n",
    "print(\"Test ROC score: \", roc_auc_score(y_test, y_pred_test_prob))\n",
    "print(\"Test F1 score: \", f1_score(y_test, y_pred_test))\n",
    "print(\"Test Precision score: \", precision_score(y_test, y_pred_test))\n",
    "print(\"Test Recall score: \", recall_score(y_test, y_pred_test))\n",
    "print(\"Test Accuracy score: \", recall_score(y_test, y_pred_test))"
   ]
  },
  {
   "cell_type": "markdown",
   "id": "ffc54773-1004-4a90-b580-a546a953260e",
   "metadata": {},
   "source": [
    "<a id='3.1.12'></a>\n",
    "### Final Model"
   ]
  },
  {
   "cell_type": "markdown",
   "id": "a96e9672-0bfc-4404-9e05-5b2d7aeb406b",
   "metadata": {},
   "source": [
    "After trying logistic regression, random forest, random forest with bagging, and xgboost, I chose random forest with bagging as my final model as it provided a high AUC score such that the AUC score fofr both train and test was siilar and provided the highest profit when calculated with the test set, as assessed in section C, question 3. For the my final prediction, I use the mean probability from 50 models, each run on a balanced subsample of the data. This is done below."
   ]
  },
  {
   "cell_type": "markdown",
   "id": "f6651546-1877-423a-83ba-1d491c70774b",
   "metadata": {},
   "source": [
    "<a id='3.1.12.1'></a>\n",
    "#### Prepare Submission File"
   ]
  },
  {
   "cell_type": "code",
   "execution_count": 1332,
   "id": "b1eda552-ad98-4c9b-953b-6094f5f2ce4a",
   "metadata": {},
   "outputs": [],
   "source": [
    "#Load submission file\n",
    "submission = pd.read_csv(\"submission_features.csv\")"
   ]
  },
  {
   "cell_type": "code",
   "execution_count": 1333,
   "id": "99cce939-be62-4a4f-a73b-5ad70ea29899",
   "metadata": {},
   "outputs": [],
   "source": [
    "## Make same transformations as in training set\n",
    "\n",
    "#Feature engineering:\n",
    "#Bin unknown marital status & 'others'\n",
    "submission.loc[submission[\"MARRIAGE\"] == 0, \"MARRIAGE\"] = 3\n",
    "\n",
    "#Recode sex\n",
    "submission.loc[submission[\"SEX\"] == 2, \"SEX\"] = 0\n",
    "\n",
    "#Bin education 0, 4, 5, and 6\n",
    "submission.loc[submission[\"EDUCATION\"] == 0, \"EDUCATION\"] = 4\n",
    "submission.loc[submission[\"EDUCATION\"] == 5, \"EDUCATION\"] = 4\n",
    "submission.loc[submission[\"EDUCATION\"] == 6, \"EDUCATION\"] = 4\n",
    "\n",
    "#Total pay_amt\n",
    "submission[\"total_pay_AMT\"] = submission[\"PAY_AMT_APRIL\"] + submission[\"PAY_AMT_FEBRUARY\"] + submission[\"PAY_AMT_JANUARY\"] + submission[\"PAY_AMT_JUNE\"] + submission[\"PAY_AMT_MARCH\"] + submission[\"PAY_AMT_MAY\"]\n",
    "\n",
    "#Total pay\n",
    "submission[\"total_pay\"] = submission[\"PAY_APRIL\"] + submission[\"PAY_FEBRUARY\"] + submission[\"PAY_JANUARY\"] + submission[\"PAY_JUNE\"] + submission[\"PAY_MARCH\"] + submission[\"PAY_MAY\"]\n",
    "\n",
    "#Total bill_amt\n",
    "submission[\"total_bill_AMT\"] = submission[\"BILL_AMT_APRIL\"] + submission[\"BILL_AMT_FEBRUARY\"] + submission[\"BILL_AMT_JANUARY\"] + submission[\"BILL_AMT_JUNE\"] + submission[\"BILL_AMT_MARCH\"] + submission[\"BILL_AMT_MAY\"]\n",
    "\n",
    "#June pay\n",
    "submission[\"june_pay\"] = np.where(submission[\"PAY_JUNE\"] < 0, 0, 1)\n",
    "\n",
    "#Bill_amt to Limit_bal ratio\n",
    "submission[\"bill_to_limit_ratio_june\"] = submission[\"BILL_AMT_JUNE\"] / submission[\"LIMIT_BAL\"]\n",
    "\n",
    "#Pay_amt to Limit_bal ratio\n",
    "submission[\"pay_to_limit_ratio_june\"] = submission[\"PAY_AMT_JUNE\"] / submission[\"LIMIT_BAL\"]\n",
    "\n",
    "#Max pay\n",
    "submission['max_pay'] = submission[[\"PAY_APRIL\", \"PAY_FEBRUARY\", \"PAY_JANUARY\", \"PAY_JUNE\", \"PAY_MARCH\", \"PAY_MAY\"]].max(axis=1)\n",
    "\n",
    "#Min pay\n",
    "submission['min_pay'] = submission[[\"PAY_APRIL\", \"PAY_FEBRUARY\", \"PAY_JANUARY\", \"PAY_JUNE\", \"PAY_MARCH\", \"PAY_MAY\"]].min(axis=1)\n",
    "\n",
    "#pay to bill ratio\n",
    "submission[\"pay_to_bill_ratio_june\"] = submission[\"PAY_AMT_JUNE\"] / submission[\"BILL_AMT_JUNE\"]\n",
    "submission[\"pay_to_bill_ratio_june\"].fillna(value=0,inplace=True)\n",
    "\n",
    "#total_late_months\n",
    "submission['total_late_payments'] = submission.loc[:, pay_cols].apply(lambda x: (x >= 1).sum(), axis=1)\n",
    "                                     \n",
    "#Mean bill_amt\n",
    "submission[\"mean_bill_AMT\"] = submission[[\"BILL_AMT_APRIL\", \"BILL_AMT_FEBRUARY\", \"BILL_AMT_JANUARY\", \"BILL_AMT_JUNE\", \"BILL_AMT_MARCH\", \"BILL_AMT_MAY\"]].mean(axis=1)\n",
    "\n",
    "#Mean bill_amt\n",
    "submission[\"mean_pay_AMT\"] = submission[[\"PAY_AMT_APRIL\", \"PAY_AMT_FEBRUARY\", \"PAY_AMT_JANUARY\", \"PAY_AMT_JUNE\", \"PAY_AMT_MARCH\", \"PAY_AMT_MAY\"]].mean(axis=1)\n",
    "\n",
    "#Bill amt minus pay amt june\n",
    "submission[\"bill_pay_amt_diff_june\"] = submission[\"BILL_AMT_JUNE\"] - submission[\"PAY_AMT_JUNE\"]\n",
    "\n",
    "# Replace infinite values with 0\n",
    "submission.replace([np.inf, -np.inf], 0, inplace=True)"
   ]
  },
  {
   "cell_type": "code",
   "execution_count": 1334,
   "id": "f7d4bcf1-1484-49d6-8399-f55aeca7dc4d",
   "metadata": {},
   "outputs": [],
   "source": [
    "#Sort submission file by ID\n",
    "submission = submission.sort_values('ID',ascending=True)\n",
    "\n",
    "#Create X_submission\n",
    "X_submission = submission.drop(columns='ID')\n",
    "#Sort columns in same order as in training set\n",
    "X_submission = X_submission.reindex(sorted(X_submission.columns), axis=1)"
   ]
  },
  {
   "cell_type": "code",
   "execution_count": 1335,
   "id": "ea15be8c-9407-4a33-acb2-916dc65f2f12",
   "metadata": {},
   "outputs": [],
   "source": [
    "#Create submission IDs df with IDs in order to concatenate with model predictions\n",
    "submission_IDs = submission[\"ID\"]\n",
    "submission_IDs = pd.Series(submission_IDs,name=\"ID\")\n",
    "submission_IDs.reset_index(drop=True, inplace=True)\n",
    "submission_IDs = submission_IDs.to_frame()"
   ]
  },
  {
   "cell_type": "code",
   "execution_count": 1336,
   "id": "f40615ad-9280-4edd-85f3-d278e6b5ec0f",
   "metadata": {},
   "outputs": [
    {
     "data": {
      "text/plain": [
       "0    True\n",
       "1    True\n",
       "2    True\n",
       "3    True\n",
       "4    True\n",
       "Name: ID, dtype: bool"
      ]
     },
     "execution_count": 1336,
     "metadata": {},
     "output_type": "execute_result"
    }
   ],
   "source": [
    "#Check that X_submission and Submission IDs are in the same order\n",
    "submission[\"ID\"].head() == submission_IDs[\"ID\"].head()"
   ]
  },
  {
   "cell_type": "markdown",
   "id": "6b97b069-6918-4735-92dd-182ced159469",
   "metadata": {},
   "source": [
    "<a id='3.1.12.2'></a>\n",
    "#### Run Final Model"
   ]
  },
  {
   "cell_type": "code",
   "execution_count": 53,
   "id": "aafd964a-40dc-4879-8137-08d791d889bc",
   "metadata": {},
   "outputs": [],
   "source": [
    "# # Create 50 balanced subsamples of data\n",
    "\n",
    "# Identify minority and majority classes\n",
    "minority_class = train[train['DEFAULT_JULY'] == 1]\n",
    "majority_class = train[train['DEFAULT_JULY'] == 0]\n",
    "\n",
    "# Define the number of minority class instances in each sample\n",
    "minority_class_size = len(train.loc[train['DEFAULT_JULY'] == 1])\n",
    "\n",
    "# Define the number of majority class instances to sample\n",
    "majority_class_size = minority_class_size\n",
    "\n",
    "# Initialize list to store the 10 samples\n",
    "balanced_samples = []\n",
    "\n",
    "# For each of the 10 samples\n",
    "for i in range(50):\n",
    "    # Select all instances of the minority class\n",
    "    minority_class_instances = train.loc[train['DEFAULT_JULY'] == 1]\n",
    "    \n",
    "    # Randomly sample the majority class to balance the class distribution\n",
    "    majority_class_instances = train.loc[train['DEFAULT_JULY'] == 0].sample(n=majority_class_size, random_state=i)\n",
    "    \n",
    "    # Combine minority and majority class instances to create the balanced sample\n",
    "    balanced_sample = pd.concat([minority_class_instances, majority_class_instances])\n",
    "    \n",
    "    # Append balanced sample to the list of samples\n",
    "    balanced_samples.append(balanced_sample)"
   ]
  },
  {
   "cell_type": "code",
   "execution_count": 62,
   "id": "d79a6305-92f6-401f-841f-6596cf2aea86",
   "metadata": {
    "tags": []
   },
   "outputs": [],
   "source": [
    "# Run Random Forest with Bagging on all 50 subsamples\n",
    "\n",
    "for sample in balanced_samples:\n",
    "    \n",
    "    #Create X train\n",
    "    X_train = sample.drop(columns=[\"DEFAULT_JULY\", \"ID\"]) #Prepare X train\n",
    "    \n",
    "    #Create y train\n",
    "    y_train = sample[\"DEFAULT_JULY\"] #Prepare y train\n",
    "    \n",
    "    #Fit model\n",
    "    model = BaggingClassifier(\n",
    "        estimator=RandomForestClassifier(\n",
    "            random_state=42,\n",
    "            max_leaf_nodes=100,\n",
    "            n_estimators=30,\n",
    "            min_samples_leaf=1\n",
    "        ),\n",
    "        random_state=42\n",
    "    ).fit(X_train, y_train)\n",
    "    \n",
    "    #Predict on test set\n",
    "    prediction = model.predict_proba(X_submission) \n",
    "    \n",
    "    #Reformat prediction & join with submission IDs\n",
    "    prediction = pd.Series(prediction[:,1],name=\"prob\")\n",
    "    prediction = prediction.to_frame()\n",
    "    prediction.reset_index(drop=True, inplace=True)\n",
    "    predictions_df = pd.concat([submission_IDs, prediction], axis=1)"
   ]
  },
  {
   "cell_type": "code",
   "execution_count": 1339,
   "id": "c622432a-89ff-4eeb-a3e4-a01e56de2b85",
   "metadata": {},
   "outputs": [],
   "source": [
    "# Final probabilities\n",
    "predictions_df[\"mean_prob\"] = predictions_df.iloc[:, 1:].mean(axis=1)"
   ]
  },
  {
   "cell_type": "code",
   "execution_count": 1340,
   "id": "b8e0ba8e-a48e-44ab-9f44-ac2d48ef6f11",
   "metadata": {},
   "outputs": [],
   "source": [
    "final_prediction = predictions_df[[\"ID\", \"mean_prob\"]]\n",
    "final_prediction = final_prediction.rename(columns={'mean_prob': 'probability'})"
   ]
  },
  {
   "cell_type": "code",
   "execution_count": 1341,
   "id": "a47c335e-6641-4c12-badb-aa2425c14326",
   "metadata": {},
   "outputs": [
    {
     "data": {
      "text/plain": [
       "<AxesSubplot:ylabel='Frequency'>"
      ]
     },
     "execution_count": 1341,
     "metadata": {},
     "output_type": "execute_result"
    },
    {
     "data": {
      "image/png": "[encoded data removed]",
      "text/plain": [
       "<Figure size 432x288 with 1 Axes>"
      ]
     },
     "metadata": {
      "needs_background": "light"
     },
     "output_type": "display_data"
    }
   ],
   "source": [
    "final_prediction[\"probability\"].plot.hist(bins=150)"
   ]
  },
  {
   "cell_type": "code",
   "execution_count": 1342,
   "id": "552b84e6-6dcd-405f-ba78-42586600bb15",
   "metadata": {},
   "outputs": [],
   "source": [
    "final_prediction.to_csv(\"prediction.csv\", header=True, index=False)"
   ]
  },
  {
   "cell_type": "code",
   "execution_count": 1343,
   "id": "0d137a0e-1047-47e1-8f7f-508f02e2c01f",
   "metadata": {},
   "outputs": [
    {
     "data": {
      "text/html": [
       "<div>\n",
       "<style scoped>\n",
       "    .dataframe tbody tr th:only-of-type {\n",
       "        vertical-align: middle;\n",
       "    }\n",
       "\n",
       "    .dataframe tbody tr th {\n",
       "        vertical-align: top;\n",
       "    }\n",
       "\n",
       "    .dataframe thead th {\n",
       "        text-align: right;\n",
       "    }\n",
       "</style>\n",
       "<table border=\"1\" class=\"dataframe\">\n",
       "  <thead>\n",
       "    <tr style=\"text-align: right;\">\n",
       "      <th></th>\n",
       "      <th>ID</th>\n",
       "      <th>probability</th>\n",
       "    </tr>\n",
       "  </thead>\n",
       "  <tbody>\n",
       "    <tr>\n",
       "      <th>575</th>\n",
       "      <td>17142</td>\n",
       "      <td>0.114955</td>\n",
       "    </tr>\n",
       "    <tr>\n",
       "      <th>611</th>\n",
       "      <td>18221</td>\n",
       "      <td>0.116323</td>\n",
       "    </tr>\n",
       "    <tr>\n",
       "      <th>87</th>\n",
       "      <td>2665</td>\n",
       "      <td>0.121726</td>\n",
       "    </tr>\n",
       "    <tr>\n",
       "      <th>185</th>\n",
       "      <td>5735</td>\n",
       "      <td>0.122132</td>\n",
       "    </tr>\n",
       "    <tr>\n",
       "      <th>980</th>\n",
       "      <td>29498</td>\n",
       "      <td>0.123595</td>\n",
       "    </tr>\n",
       "  </tbody>\n",
       "</table>\n",
       "</div>"
      ],
      "text/plain": [
       "        ID  probability\n",
       "575  17142     0.114955\n",
       "611  18221     0.116323\n",
       "87    2665     0.121726\n",
       "185   5735     0.122132\n",
       "980  29498     0.123595"
      ]
     },
     "execution_count": 1343,
     "metadata": {},
     "output_type": "execute_result"
    }
   ],
   "source": [
    "# Clients most likely to pay back loan are those with lowest probabilities of defaulting\n",
    "final_prediction.sort_values(\"probability\", ascending = True).head()"
   ]
  },
  {
   "cell_type": "markdown",
   "id": "092deb72-37ec-4830-ae23-27276adfb32b",
   "metadata": {},
   "source": [
    "Now suppose the bank wants to optimize the decision-making process by establishing the optimal threshold for the model in order to effectively take the decision about when to issue the credit and when not. So, taking into account the following numbers:\n",
    "\n",
    "- A customer who received a loan but doesn't repay costs 5000 to the bank\n",
    "- A customer who receives a loan and repays, make a profit of 1000 to the bank\n",
    "- If the credit is not issued, then there is no profit or loss\n",
    "\n",
    "To get an optimal threshold based on the validation set, I used my final model to make predictions on the validation set. This is done below."
   ]
  },
  {
   "cell_type": "code",
   "execution_count": 54,
   "id": "d0bf245d-2e5d-452d-9af7-29bb575db09c",
   "metadata": {},
   "outputs": [],
   "source": [
    "# # Run Random Forest with Bagging for all 50 subsamples\n",
    "\n",
    "# Create df to add predictions to\n",
    "internal_predictions_df = test[\"ID\"].to_frame()\n",
    "\n",
    "for sample in balanced_samples:\n",
    "    \n",
    "    #Create X train\n",
    "    X_train = sample.drop(columns=[\"DEFAULT_JULY\", \"ID\"]) #Prepare X train\n",
    "    \n",
    "    #Create y train\n",
    "    y_train = sample[\"DEFAULT_JULY\"] #Prepare y train\n",
    "    \n",
    "    #Fit model\n",
    "    model = BaggingClassifier(\n",
    "        estimator=RandomForestClassifier(\n",
    "            random_state=42,\n",
    "            max_leaf_nodes=100,\n",
    "            n_estimators=30,\n",
    "            min_samples_leaf=1\n",
    "        ),\n",
    "        random_state=42\n",
    "    ).fit(X_train, y_train)\n",
    "    \n",
    "    #Predict on test set\n",
    "    internal_prediction = model.predict_proba(X_test) \n",
    "    \n",
    "    #Reformat prediction & join with prediction dataframe created in section 6.3\n",
    "    internal_prediction = pd.Series(internal_prediction[:,1],name=\"prob\")\n",
    "    internal_prediction = internal_prediction.to_frame()\n",
    "    internal_prediction.reset_index(drop=True, inplace=True)\n",
    "    internal_predictions_df = pd.concat([internal_predictions_df, internal_prediction], axis=1)"
   ]
  },
  {
   "cell_type": "code",
   "execution_count": 55,
   "id": "09eee68b-c3e5-4a7a-9176-f8e7d582b6cc",
   "metadata": {},
   "outputs": [],
   "source": [
    "# X_test probabilities\n",
    "internal_predictions_df[\"mean_prob\"] = internal_predictions_df.iloc[:, 1:].mean(axis=1)"
   ]
  },
  {
   "cell_type": "code",
   "execution_count": 57,
   "id": "4d91823c-b9c9-4c9c-a820-e019985fb0de",
   "metadata": {},
   "outputs": [
    {
     "data": {
      "text/plain": [
       "0.784763300113238"
      ]
     },
     "execution_count": 57,
     "metadata": {},
     "output_type": "execute_result"
    }
   ],
   "source": [
    "# Test score\n",
    "roc_auc_score(y_test, internal_predictions_df[\"mean_prob\"])"
   ]
  },
  {
   "cell_type": "code",
   "execution_count": 58,
   "id": "9c3562cb-4d1c-43ee-af12-aff3b15d03a0",
   "metadata": {},
   "outputs": [
    {
     "data": {
      "text/plain": [
       "<AxesSubplot:ylabel='Frequency'>"
      ]
     },
     "execution_count": 58,
     "metadata": {},
     "output_type": "execute_result"
    },
    {
     "data": {
      "image/png": "[encoded data removed]",
      "text/plain": [
       "<Figure size 432x288 with 1 Axes>"
      ]
     },
     "metadata": {
      "needs_background": "light"
     },
     "output_type": "display_data"
    }
   ],
   "source": [
    "internal_predictions_df[\"mean_prob\"].plot.hist(bins=150)"
   ]
  },
  {
   "cell_type": "code",
   "execution_count": 61,
   "id": "1b80f2de-9828-401b-874b-a82bb09b7d3c",
   "metadata": {
    "tags": []
   },
   "outputs": [
    {
     "name": "stdout",
     "output_type": "stream",
     "text": [
      "Optimal Threshold: 0.4530681883081557\n",
      "True Positive: 1414\n",
      "False Positive: 1984\n",
      "True Negative: 5021\n",
      "False Negative: 581\n",
      "AUC: 0.784763300113238\n",
      "Profit: 2116000\n"
     ]
    }
   ],
   "source": [
    "from sklearn.metrics import roc_curve, auc\n",
    "from sklearn.metrics import confusion_matrix\n",
    "\n",
    "# gain and cost values\n",
    "Gain_TP = 0\n",
    "Cost_FP = 0 #-1000 depends on assignment instructions\n",
    "Gain_TN = 1000\n",
    "Cost_FN = -5000\n",
    "\n",
    "# calculate predicted probabilities\n",
    "y_pred_prob = internal_predictions_df[\"mean_prob\"]\n",
    "\n",
    "# calculate false positive rate, true positive rate, and thresholds\n",
    "fpr, tpr, thresholds = roc_curve(y_test, y_pred_prob)\n",
    "\n",
    "gain = 0\n",
    "optimal_T = None\n",
    "\n",
    "for T in thresholds:\n",
    "    y_pred = (y_pred_prob >= T).astype(int)\n",
    "    tn, fp, fn, tp = confusion_matrix(y_test, y_pred).ravel()\n",
    "    \n",
    "    new_gain = (tp * Gain_TP) + (fp * Cost_FP) + (tn * Gain_TN) + (fn * Cost_FN)\n",
    "    \n",
    "    if new_gain > gain:\n",
    "        gain = new_gain\n",
    "        optimal_T = T\n",
    "\n",
    "# calculate confusion matrix for the optimal threshold\n",
    "y_pred = (y_pred_prob >= optimal_T).astype(int)\n",
    "tn, fp, fn, tp = confusion_matrix(y_test, y_pred).ravel()\n",
    "\n",
    "# calculate AUC for the optimal threshold\n",
    "auc_score = auc(fpr, tpr)\n",
    "\n",
    "print('Optimal Threshold:', optimal_T)\n",
    "print('True Positive:', tp)\n",
    "print('False Positive:', fp)\n",
    "print('True Negative:', tn)\n",
    "print('False Negative:', fn)\n",
    "print('AUC:', auc_score)\n",
    "print('Profit:', gain)"
   ]
  }
 ],
 "metadata": {
  "kernelspec": {
   "display_name": "Python 3 (ipykernel)",
   "language": "python",
   "name": "python3"
  },
  "language_info": {
   "codemirror_mode": {
    "name": "ipython",
    "version": 3
   },
   "file_extension": ".py",
   "mimetype": "text/x-python",
   "name": "python",
   "nbconvert_exporter": "python",
   "pygments_lexer": "ipython3",
   "version": "3.9.13"
  }
 },
 "nbformat": 4,
 "nbformat_minor": 5
}
